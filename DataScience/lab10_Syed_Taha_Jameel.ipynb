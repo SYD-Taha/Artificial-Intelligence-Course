{
  "nbformat": 4,
  "nbformat_minor": 0,
  "metadata": {
    "colab": {
      "provenance": []
    },
    "kernelspec": {
      "name": "python3",
      "display_name": "Python 3"
    },
    "language_info": {
      "name": "python"
    }
  },
  "cells": [
    {
      "cell_type": "code",
      "execution_count": null,
      "metadata": {
        "colab": {
          "base_uri": "https://localhost:8080/"
        },
        "id": "ZmdXpVMplIFR",
        "outputId": "301366ca-e031-4c7c-f1e7-38f15646549d"
      },
      "outputs": [
        {
          "output_type": "stream",
          "name": "stdout",
          "text": [
            "[[1 2 3]\n",
            " [4 5 6]]\n",
            "[[1. 2. 3.]\n",
            " [4. 5. 6.]]\n"
          ]
        }
      ],
      "source": [
        "import numpy as np\n",
        "\n",
        "array = np.array ([[1,2,3],[4,5,6]])\n",
        "\n",
        "np.save('arr_file.npy', array)\n",
        "np.savetxt('arr_file.txt', array)\n",
        "\n",
        "loaded = np.load('arr_file.npy')\n",
        "loaded_txt = np.loadtxt('arr_file.txt')\n",
        "\n",
        "print(loaded)\n",
        "print(loaded_txt)"
      ]
    },
    {
      "cell_type": "code",
      "source": [
        "import random\n",
        "\n",
        "new_arr = np.random.randint(0,20, size = (5,5))\n",
        "\n",
        "diagonal = np.diag(new_arr)\n",
        "\n",
        "all_even = new_arr[new_arr % 2 == 0]\n",
        "\n",
        "new_arr[new_arr > 10] = 0\n",
        "\n",
        "\n",
        "print(new_arr)\n",
        "print(\"\\n\",diagonal)\n",
        "print(\"\\n\",all_even)\n"
      ],
      "metadata": {
        "colab": {
          "base_uri": "https://localhost:8080/"
        },
        "id": "A2BSfcuztPYW",
        "outputId": "45e267b7-3957-4d4a-abd4-7045ae008e21"
      },
      "execution_count": null,
      "outputs": [
        {
          "output_type": "stream",
          "name": "stdout",
          "text": [
            "[[10  2  4  5  2]\n",
            " [ 0  9  0  0 10]\n",
            " [ 1  3  2  0  0]\n",
            " [ 8  0  0  0  5]\n",
            " [ 9  0  0  4  0]]\n",
            "\n",
            " [10  9  2  0  0]\n",
            "\n",
            " [10  2  4  2 18 14 10  2 18  8  0  0 14  4]\n"
          ]
        }
      ]
    },
    {
      "cell_type": "code",
      "source": [
        "a = np.random.rand(3,1)\n",
        "b = np.random.rand(1,4)\n",
        "\n",
        "result = a+b\n",
        "print(a)\n",
        "print(\"\\n\",b)\n",
        "print(\"\\n\",result)"
      ],
      "metadata": {
        "colab": {
          "base_uri": "https://localhost:8080/"
        },
        "id": "S_jlhO1wxOy2",
        "outputId": "8569b9af-8b89-4fc9-d536-2e30f0b0abea"
      },
      "execution_count": null,
      "outputs": [
        {
          "output_type": "stream",
          "name": "stdout",
          "text": [
            "[[0.73991445]\n",
            " [0.7611164 ]\n",
            " [0.1604481 ]]\n",
            "\n",
            " [[0.99144847 0.72250784 0.23736677 0.9491364 ]]\n",
            "\n",
            " [[1.73136293 1.46242229 0.97728123 1.68905085]\n",
            " [1.75256488 1.48362424 0.99848318 1.7102528 ]\n",
            " [1.15189657 0.88295594 0.39781487 1.1095845 ]]\n"
          ]
        }
      ]
    },
    {
      "cell_type": "code",
      "source": [
        "int_arr = np.random.randint(1,20,size=(2,2))\n",
        "print(int_arr.dtype)\n",
        "\n",
        "int_arr.astype(np.float32)\n",
        "\n"
      ],
      "metadata": {
        "colab": {
          "base_uri": "https://localhost:8080/"
        },
        "id": "Djw3vDTky-2m",
        "outputId": "724520a2-ea4d-4ce8-a183-1bd2177fdef0"
      },
      "execution_count": null,
      "outputs": [
        {
          "output_type": "stream",
          "name": "stdout",
          "text": [
            "int64\n"
          ]
        },
        {
          "output_type": "execute_result",
          "data": {
            "text/plain": [
              "array([[4., 7.],\n",
              "       [2., 5.]], dtype=float32)"
            ]
          },
          "metadata": {},
          "execution_count": 44
        }
      ]
    },
    {
      "cell_type": "code",
      "source": [
        "a = np.array([[1,2],[3,4]])\n",
        "b = np.array([[5,6],[7,8]])\n",
        "\n",
        "print(a)\n",
        "print(b)\n",
        "\n",
        "print(a+b)\n",
        "print(a-b)\n",
        "print(a*b)\n",
        "print(a/b)\n",
        "print(a**b)"
      ],
      "metadata": {
        "colab": {
          "base_uri": "https://localhost:8080/"
        },
        "id": "u6FWgJu00Bfe",
        "outputId": "45872cfb-fc2c-4838-ac4f-baf381490283"
      },
      "execution_count": null,
      "outputs": [
        {
          "output_type": "stream",
          "name": "stdout",
          "text": [
            "[[1 2]\n",
            " [3 4]]\n",
            "[[5 6]\n",
            " [7 8]]\n",
            "[[ 6  8]\n",
            " [10 12]]\n",
            "[[-4 -4]\n",
            " [-4 -4]]\n",
            "[[ 5 12]\n",
            " [21 32]]\n",
            "[[0.2        0.33333333]\n",
            " [0.42857143 0.5       ]]\n",
            "[[    1    64]\n",
            " [ 2187 65536]]\n"
          ]
        }
      ]
    },
    {
      "cell_type": "code",
      "source": [
        "arr = np.array([1, 4, 9])\n",
        "print(np.sqrt(arr))\n",
        "print(np.exp(arr))\n",
        "print(np.sin(arr))\n",
        "print(np.max(arr))\n",
        "print(np.abs(arr))"
      ],
      "metadata": {
        "colab": {
          "base_uri": "https://localhost:8080/"
        },
        "id": "SlxgaT1R1Plu",
        "outputId": "1eb664f8-ee0b-4f16-b858-db0422ac83bc"
      },
      "execution_count": null,
      "outputs": [
        {
          "output_type": "stream",
          "name": "stdout",
          "text": [
            "[1. 2. 3.]\n",
            "[2.71828183e+00 5.45981500e+01 8.10308393e+03]\n",
            "[ 0.84147098 -0.7568025   0.41211849]\n",
            "9\n",
            "[1 4 9]\n"
          ]
        }
      ]
    }
  ]
}