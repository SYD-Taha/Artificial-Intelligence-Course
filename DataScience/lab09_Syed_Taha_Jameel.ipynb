{
  "nbformat": 4,
  "nbformat_minor": 0,
  "metadata": {
    "colab": {
      "provenance": []
    },
    "kernelspec": {
      "name": "python3",
      "display_name": "Python 3"
    },
    "language_info": {
      "name": "python"
    }
  },
  "cells": [
    {
      "cell_type": "code",
      "execution_count": null,
      "metadata": {
        "colab": {
          "base_uri": "https://localhost:8080/"
        },
        "id": "NE_wjlpzZx4R",
        "outputId": "d6df7e20-395f-4f4a-afe3-9205cc7ede4f"
      },
      "outputs": [
        {
          "output_type": "stream",
          "name": "stdout",
          "text": [
            "[[0. 0. 0.]\n",
            " [0. 0. 0.]]\n",
            "[[1. 1. 1.]\n",
            " [1. 1. 1.]]\n",
            "[[1. 0. 0.]\n",
            " [0. 1. 0.]\n",
            " [0. 0. 1.]]\n",
            "[[0.9343124  0.92421103 0.80697119]\n",
            " [0.54919142 0.4800827  0.27566345]]\n",
            "[[3 7 2]\n",
            " [6 9 8]\n",
            " [1 3 1]]\n"
          ]
        }
      ],
      "source": [
        "import numpy as np\n",
        "\n",
        "arr = np.array([1,2,3])\n",
        "\n",
        "zeros = np.zeros((2,3))\n",
        "ones = np.ones((2,3))\n",
        "eye = np.eye(3)\n",
        "\n",
        "print(zeros)\n",
        "print(ones)\n",
        "print(eye)\n",
        "\n",
        "rand = np.random.rand(2,3)\n",
        "randint = np.random.randint(1,10,(3,3))\n",
        "\n",
        "print(rand)\n",
        "print(randint)"
      ]
    },
    {
      "cell_type": "code",
      "source": [
        "arr = np.array([[1,2,3],[4,5,6]])\n",
        "print(\"shape:\",arr.shape )\n",
        "print(\"Reshaped:\",arr.reshape(3,2))\n",
        "print(\"DataType:\",arr.dtype)\n",
        "print(\"Size:\",arr.size)\n",
        "print(\"Num of Dimensions:\",arr.ndim)\n",
        "print(\"Maximum:\",arr.max())\n",
        "print(\"Minimum:\",arr.min())\n",
        "print(\"Argument Maximum:\",arr.argmax())\n",
        "print(\"Argument Minimum:\",arr.argmin())"
      ],
      "metadata": {
        "colab": {
          "base_uri": "https://localhost:8080/"
        },
        "id": "J6Cp0WaOnI2E",
        "outputId": "bf1bd81d-9d31-4f30-af1b-229db20b02c4"
      },
      "execution_count": null,
      "outputs": [
        {
          "output_type": "stream",
          "name": "stdout",
          "text": [
            "shape: (2, 3)\n",
            "Reshaped: [[1 2]\n",
            " [3 4]\n",
            " [5 6]]\n",
            "DataType: int64\n",
            "Size: 6\n",
            "Num of Dimensions: 2\n",
            "Maximum: 6\n",
            "Minimum: 1\n",
            "Argument Maximum: 5\n",
            "Argument Minimum: 0\n"
          ]
        }
      ]
    },
    {
      "cell_type": "code",
      "source": [
        "copy_arr = arr.copy()\n",
        "print(copy_arr)\n",
        "np.append(copy_arr,[10,11])\n",
        "print(copy_arr)\n",
        "# np.insert(copy_arr, 1, [100, 200], axis=0)\n",
        "np.sort(copy_arr, axis=1)\n",
        "np.delete(copy_arr, 1, axis=0)\n",
        "np.split(arr, 2)\n",
        "\n",
        "\n",
        "a = np.array([[1, 2], [3, 4]])\n",
        "b = np.array([[5, 6], [7, 8]])\n",
        "\n",
        "combined = np.concatenate((a, b), axis=0)\n",
        "\n",
        "print(combined)"
      ],
      "metadata": {
        "colab": {
          "base_uri": "https://localhost:8080/"
        },
        "id": "U5TZ51TIqzFk",
        "outputId": "4edb52d7-d506-4a45-d1a3-ad16fd937ae4"
      },
      "execution_count": null,
      "outputs": [
        {
          "output_type": "stream",
          "name": "stdout",
          "text": [
            "[[1 2 3]\n",
            " [4 5 6]]\n",
            "[[1 2 3]\n",
            " [4 5 6]]\n",
            "[[1 2]\n",
            " [3 4]\n",
            " [5 6]\n",
            " [7 8]]\n"
          ]
        }
      ]
    }
  ]
}