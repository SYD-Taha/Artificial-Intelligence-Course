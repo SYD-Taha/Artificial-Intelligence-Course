{
  "nbformat": 4,
  "nbformat_minor": 0,
  "metadata": {
    "colab": {
      "provenance": []
    },
    "kernelspec": {
      "name": "python3",
      "display_name": "Python 3"
    },
    "language_info": {
      "name": "python"
    }
  },
  "cells": [
    {
      "cell_type": "markdown",
      "source": [
        "#Functions, Multi Arguent Functions"
      ],
      "metadata": {
        "id": "1IGwYISBrdrm"
      }
    },
    {
      "cell_type": "code",
      "execution_count": 1,
      "metadata": {
        "colab": {
          "base_uri": "https://localhost:8080/"
        },
        "id": "ZWsSV6GlbXN1",
        "outputId": "979854e4-d83b-4444-f3e6-a1b82a3d911a"
      },
      "outputs": [
        {
          "output_type": "stream",
          "name": "stdout",
          "text": [
            "This is a Function whose function is to print this line\n"
          ]
        }
      ],
      "source": [
        "def func():\n",
        "  var = \"This is a Function whose function is to print this line\"\n",
        "  print(var)\n",
        "\n",
        "func()"
      ]
    },
    {
      "cell_type": "code",
      "source": [
        "def op(a):\n",
        "  b = a + 9\n",
        "  print(b)\n",
        "\n",
        "op(5)"
      ],
      "metadata": {
        "colab": {
          "base_uri": "https://localhost:8080/"
        },
        "id": "Uha96elhcYeQ",
        "outputId": "5459ec73-054e-4074-807a-b1886c842ec6"
      },
      "execution_count": 2,
      "outputs": [
        {
          "output_type": "stream",
          "name": "stdout",
          "text": [
            "14\n"
          ]
        }
      ]
    },
    {
      "cell_type": "code",
      "source": [
        "def tp(a,b):\n",
        "  c = a + b\n",
        "  print(c)\n",
        "\n",
        "\n",
        "tp(5,10)"
      ],
      "metadata": {
        "colab": {
          "base_uri": "https://localhost:8080/"
        },
        "id": "STCQfu8Tct1r",
        "outputId": "15f73be1-e553-49c6-f20e-44330432754c"
      },
      "execution_count": 3,
      "outputs": [
        {
          "output_type": "stream",
          "name": "stdout",
          "text": [
            "15\n"
          ]
        }
      ]
    },
    {
      "cell_type": "code",
      "source": [
        "def thp(a,b,c):\n",
        "  var = a + b - c\n",
        "  print(var)\n",
        "\n",
        "thp(1,2,4)\n"
      ],
      "metadata": {
        "colab": {
          "base_uri": "https://localhost:8080/"
        },
        "id": "mUOmyM3Ec3IH",
        "outputId": "46b6bf93-c46b-4962-98f4-e581f08fbace"
      },
      "execution_count": 8,
      "outputs": [
        {
          "output_type": "stream",
          "name": "stdout",
          "text": [
            "-1\n"
          ]
        }
      ]
    },
    {
      "cell_type": "code",
      "source": [
        "def name(firstname,middlename,lastname):\n",
        "  fullname = \"{} {} {}\".format(firstname,middlename,lastname)\n",
        "  print(fullname)\n",
        "\n",
        "name(lastname=\"Jameel\",firstname=\"Syed\",middlename='Taha')"
      ],
      "metadata": {
        "colab": {
          "base_uri": "https://localhost:8080/"
        },
        "id": "3adF2-3Cdu_a",
        "outputId": "c2f12a3f-3b1b-4d49-e2a6-0b62f823a0ad"
      },
      "execution_count": 13,
      "outputs": [
        {
          "output_type": "stream",
          "name": "stdout",
          "text": [
            "Syed Taha Jameel\n"
          ]
        }
      ]
    },
    {
      "cell_type": "code",
      "source": [
        "def mult_args(*args):\n",
        "  print(list(args))\n",
        "\n",
        "mult_args(1,2.2,3,4,54,5,48,4,21,2,1211,1)"
      ],
      "metadata": {
        "colab": {
          "base_uri": "https://localhost:8080/"
        },
        "id": "TgTwuia9ektq",
        "outputId": "3a3feeaf-d7ac-418c-abaf-bc7147f8b0bc"
      },
      "execution_count": 18,
      "outputs": [
        {
          "output_type": "stream",
          "name": "stdout",
          "text": [
            "[1, 2.2, 3, 4, 54, 5, 48, 4, 21, 2, 1211, 1]\n"
          ]
        }
      ]
    },
    {
      "cell_type": "code",
      "source": [
        "def names(*args):\n",
        "  print(\"My name is \", args[0])\n",
        "\n",
        "names('Taha','Ali','hamza','umer')"
      ],
      "metadata": {
        "colab": {
          "base_uri": "https://localhost:8080/"
        },
        "id": "FbxrforQe__t",
        "outputId": "b2019078-a8aa-491e-b8d0-80233b90a045"
      },
      "execution_count": 23,
      "outputs": [
        {
          "output_type": "stream",
          "name": "stdout",
          "text": [
            "My name is  Taha\n"
          ]
        }
      ]
    },
    {
      "cell_type": "code",
      "source": [
        "def func2(**kwargs):\n",
        "  print(kwargs)\n",
        "\n",
        "func2(first = 'Syed', number = 1, boolean = True)"
      ],
      "metadata": {
        "colab": {
          "base_uri": "https://localhost:8080/"
        },
        "id": "sQTCuRefff44",
        "outputId": "24df1ab2-d4df-43a7-ae38-b17b7eea9ce4"
      },
      "execution_count": 25,
      "outputs": [
        {
          "output_type": "stream",
          "name": "stdout",
          "text": [
            "{'first': 'Syed', 'number': 1, 'boolean': True}\n"
          ]
        }
      ]
    },
    {
      "cell_type": "code",
      "source": [
        "def fnc3(**kwargs):\n",
        "  for key,value in kwargs.items():\n",
        "    print(\"{} :- {}\".format(key,value))\n",
        "\n",
        "fnc3(one = 1, two = 2 , three = 3, four = 4)"
      ],
      "metadata": {
        "colab": {
          "base_uri": "https://localhost:8080/"
        },
        "id": "_y4qAPO2gMSQ",
        "outputId": "c52f979b-a640-4062-a7f9-984e292293e8"
      },
      "execution_count": 29,
      "outputs": [
        {
          "output_type": "stream",
          "name": "stdout",
          "text": [
            "one :- 1\n",
            "two :- 2\n",
            "three :- 3\n",
            "four :- 4\n"
          ]
        }
      ]
    },
    {
      "cell_type": "code",
      "source": [
        "def out_func():\n",
        "  print(\"This is the outer function\")\n",
        "  def in_func():\n",
        "    print(\"This is the inner function\")\n",
        "  in_func()\n",
        "\n",
        "out_func()"
      ],
      "metadata": {
        "colab": {
          "base_uri": "https://localhost:8080/"
        },
        "id": "QqFqwzwxhLpU",
        "outputId": "5b0acdb8-e6fd-4efd-d838-2b14cd4fdbee"
      },
      "execution_count": 32,
      "outputs": [
        {
          "output_type": "stream",
          "name": "stdout",
          "text": [
            "This is the outer function\n",
            "This is the inner function\n"
          ]
        }
      ]
    },
    {
      "cell_type": "code",
      "source": [
        "def num(a):\n",
        "  def num1(b):\n",
        "    return a*b\n",
        "  return num1\n",
        "\n",
        "\n",
        "solve = num(3)\n",
        "print(solve(2))"
      ],
      "metadata": {
        "colab": {
          "base_uri": "https://localhost:8080/"
        },
        "id": "IA21s1_9hc7_",
        "outputId": "9618b2bd-c4af-4bfb-db53-8e8a640c3b85"
      },
      "execution_count": 34,
      "outputs": [
        {
          "output_type": "stream",
          "name": "stdout",
          "text": [
            "6\n"
          ]
        }
      ]
    },
    {
      "cell_type": "markdown",
      "source": [
        "#Some Builtin Functions"
      ],
      "metadata": {
        "id": "8nEK0e1Nrtp2"
      }
    },
    {
      "cell_type": "code",
      "source": [
        "var = \"python\"\n",
        "var1 = list(var)\n",
        "print(var1)\n",
        "var2 = list(reversed((var1)))\n",
        "print(var2)\n"
      ],
      "metadata": {
        "colab": {
          "base_uri": "https://localhost:8080/"
        },
        "id": "0PtT7IvyiEJZ",
        "outputId": "24968995-5936-49b8-9fa0-99e8bd940caa"
      },
      "execution_count": 40,
      "outputs": [
        {
          "output_type": "stream",
          "name": "stdout",
          "text": [
            "['p', 'y', 't', 'h', 'o', 'n']\n",
            "['n', 'o', 'h', 't', 'y', 'p']\n"
          ]
        }
      ]
    },
    {
      "cell_type": "code",
      "source": [
        "var1 = ['first','second','third']\n",
        "var2 = [1,2,3]\n",
        "\n",
        "var3 = zip(var1,var2)\n",
        "print(dict(var3))"
      ],
      "metadata": {
        "colab": {
          "base_uri": "https://localhost:8080/"
        },
        "id": "fGHQGeDJjPAs",
        "outputId": "6c8d7753-c01f-4a83-e775-a49546be80c8"
      },
      "execution_count": 43,
      "outputs": [
        {
          "output_type": "stream",
          "name": "stdout",
          "text": [
            "{'first': 1, 'second': 2, 'third': 3}\n"
          ]
        }
      ]
    },
    {
      "cell_type": "code",
      "source": [
        "num = [12,54,8,1,5,4185,4185,4,51,15,5,54,8,645,484,1]\n",
        "od = sorted(num)\n",
        "\n",
        "i = 0\n",
        "while i < len(od)-1:\n",
        "\n",
        "  if od[i] == od[i+1]:\n",
        "    print(\"same number\",od[i])\n",
        "    od.pop(i+1)\n",
        "  else:\n",
        "    i+=1\n",
        "\n",
        "print(od)\n",
        "\n"
      ],
      "metadata": {
        "colab": {
          "base_uri": "https://localhost:8080/"
        },
        "id": "3sJ6idtAjlbV",
        "outputId": "70b89201-29e2-4931-f166-c830c6002da0"
      },
      "execution_count": 74,
      "outputs": [
        {
          "output_type": "stream",
          "name": "stdout",
          "text": [
            "same number 1\n",
            "same number 5\n",
            "same number 8\n",
            "same number 54\n",
            "same number 4185\n",
            "[1, 4, 5, 8, 12, 15, 51, 54, 484, 645, 4185]\n"
          ]
        }
      ]
    },
    {
      "cell_type": "code",
      "source": [
        "a = lambda x: x**2\n",
        "print(a(2))"
      ],
      "metadata": {
        "colab": {
          "base_uri": "https://localhost:8080/"
        },
        "id": "mmTO7AjynB4q",
        "outputId": "aab74810-1b7a-43c3-d85f-1742031b1587"
      },
      "execution_count": 75,
      "outputs": [
        {
          "output_type": "stream",
          "name": "stdout",
          "text": [
            "4\n"
          ]
        }
      ]
    },
    {
      "cell_type": "code",
      "source": [
        "b = lambda *args : sum(args)\n",
        "print(b(1,2,3,4,5,6,7,8,9,10))"
      ],
      "metadata": {
        "colab": {
          "base_uri": "https://localhost:8080/"
        },
        "id": "RGT_GYTOpW9a",
        "outputId": "636fadf3-8aa1-4ad2-fa97-5c28453c3d40"
      },
      "execution_count": 82,
      "outputs": [
        {
          "output_type": "stream",
          "name": "stdout",
          "text": [
            "55\n"
          ]
        }
      ]
    }
  ]
}