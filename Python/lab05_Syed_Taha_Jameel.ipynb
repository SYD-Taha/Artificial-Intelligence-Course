{
  "nbformat": 4,
  "nbformat_minor": 0,
  "metadata": {
    "colab": {
      "provenance": []
    },
    "kernelspec": {
      "name": "python3",
      "display_name": "Python 3"
    },
    "language_info": {
      "name": "python"
    }
  },
  "cells": [
    {
      "cell_type": "markdown",
      "source": [
        "# Syed Taha Jameel"
      ],
      "metadata": {
        "id": "n-noZ0sMvH-6"
      }
    },
    {
      "cell_type": "markdown",
      "source": [
        "Classes, Variables, Methods"
      ],
      "metadata": {
        "id": "5qQTfwlcvKXd"
      }
    },
    {
      "cell_type": "code",
      "execution_count": null,
      "metadata": {
        "colab": {
          "base_uri": "https://localhost:8080/"
        },
        "id": "xjpa3_0UzJjl",
        "outputId": "262d737e-bdef-4f47-9507-0e6b3ea8408c"
      },
      "outputs": [
        {
          "output_type": "stream",
          "name": "stdout",
          "text": [
            "Car: Tesla Model S 4000.0\n",
            "Car: BMW X5 1000.0\n"
          ]
        }
      ],
      "source": [
        "class Car:\n",
        "    def __init__(self, brand, model, price):\n",
        "        self.brand = brand\n",
        "        self.model = model\n",
        "        self.price = price\n",
        "\n",
        "    def display_info(self):\n",
        "        a = self.price *100 /10\n",
        "        print(f\"Car: {self.brand} {self.model} {a}\")\n",
        "\n",
        "# Creating instances of the Car class\n",
        "car1 = Car(\"Tesla\", \"Model S\", 400)\n",
        "car2 = Car(\"BMW\", \"X5\", 100)\n",
        "\n",
        "# Calling display_info() method\n",
        "car1.display_info()\n",
        "car2.display_info()\n"
      ]
    },
    {
      "cell_type": "code",
      "source": [
        "class laptop:\n",
        "  def __init__(self,brand,model,price):\n",
        "    self.brand = brand\n",
        "    self.model = model\n",
        "    self.price = price\n",
        "\n",
        "  def display_details(self):\n",
        "    print(f\"{self.brand} {self.model} {self.price}\")\n",
        "\n",
        "\n",
        "laptop1 = laptop(\"HP\",\"X100\",\"200\")\n",
        "laptop2 = laptop(\"DELL\",\"ZT10\",\"500\")\n",
        "\n",
        "\n",
        "laptop1.display_details()\n",
        "laptop2.display_details()"
      ],
      "metadata": {
        "colab": {
          "base_uri": "https://localhost:8080/"
        },
        "id": "cT2yorbk04aA",
        "outputId": "fd363cbb-8935-4188-aa8c-d09d3467b0d5"
      },
      "execution_count": null,
      "outputs": [
        {
          "output_type": "stream",
          "name": "stdout",
          "text": [
            "HP X100 200\n",
            "DELL ZT10 500\n"
          ]
        }
      ]
    },
    {
      "cell_type": "code",
      "source": [
        "class bank_account: # class\n",
        "\n",
        "  def __init__(self,account_num,balance): #constructor\n",
        "    self.account_num = account_num  #instance variable\n",
        "    self.balance = balance          #instance variable\n",
        "\n",
        "\n",
        "  def deposit(self):  #instance method\n",
        "\n",
        "    a = int(input(\"Enter amount to deposit: \"))       # taking input and storing it in variable \"a\"\n",
        "    self.balance = self.balance + a                 # adding input amount in instance variable \"self.balance\"\n",
        "    print(f\"Your balance is now {self.balance}\")\n",
        "\n",
        "  def withdraw(self): #instance method\n",
        "\n",
        "    b = int(input(\"Enter amount to withdraw: \"))      # taking input and storing it in variable \"b\"\n",
        "\n",
        "    if b < self.balance:                            # condition to check if withdraw is going to be successful\n",
        "      self.balance = self.balance - b\n",
        "    else:\n",
        "      print(\"Account balance is low\")\n",
        "\n",
        "    print(f\"your balance is now {self.balance}\")    # print account balance after withdraw\n",
        "\n",
        "\n",
        "taha = bank_account(\"20\",0)\n",
        "ali = bank_account(\"25\", 10)\n",
        "\n",
        "\n",
        "taha.deposit()\n",
        "taha.withdraw()"
      ],
      "metadata": {
        "colab": {
          "base_uri": "https://localhost:8080/"
        },
        "id": "Xjst0tQW1G4B",
        "outputId": "ab097c68-c6fe-4a68-cdf6-5f3b4e61552a"
      },
      "execution_count": 1,
      "outputs": [
        {
          "output_type": "stream",
          "name": "stdout",
          "text": [
            "Enter amount to deposit: 50\n",
            "Your balance is now 50\n",
            "Enter amount to withdraw: 30\n",
            "your balance is now 20\n"
          ]
        }
      ]
    },
    {
      "cell_type": "code",
      "source": [
        "class university:\n",
        "\n",
        "  uni_name = \"SSUET\"\n",
        "\n",
        "  def __init__(self,name,age): #constructor\n",
        "    self.name = name  #instance variable\n",
        "    self.age = age\n",
        "\n",
        "  def display_info(self):\n",
        "    print(f\"{self.name} {self.age} \")\n",
        "\n",
        "  @classmethod\n",
        "  def change_uniName(cls, newUni):\n",
        "    cls.uni_name = newUni\n",
        "\n",
        "stud1 = university(\"taha\",\"22\")\n",
        "stud2 = university(\"ali\",\"22\")\n",
        "\n",
        "stud1.display_info()\n",
        "print(university.uni_name)\n",
        "university.change_uniName(\"Uok\")\n",
        "stud2.display_info()\n",
        "print(university.uni_name)\n"
      ],
      "metadata": {
        "colab": {
          "base_uri": "https://localhost:8080/"
        },
        "id": "Lr_2cWzy9oYx",
        "outputId": "51138194-8be3-4d19-acc4-3ba0e73ce776"
      },
      "execution_count": null,
      "outputs": [
        {
          "output_type": "stream",
          "name": "stdout",
          "text": [
            "taha 22 \n",
            "SSUET\n",
            "ali 22 \n",
            "Uok\n"
          ]
        }
      ]
    }
  ]
}