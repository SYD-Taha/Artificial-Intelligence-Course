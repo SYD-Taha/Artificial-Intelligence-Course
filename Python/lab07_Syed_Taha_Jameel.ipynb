{
  "nbformat": 4,
  "nbformat_minor": 0,
  "metadata": {
    "colab": {
      "provenance": []
    },
    "kernelspec": {
      "name": "python3",
      "display_name": "Python 3"
    },
    "language_info": {
      "name": "python"
    }
  },
  "cells": [
    {
      "cell_type": "markdown",
      "source": [
        "#Polymorphism and Operator Overloading"
      ],
      "metadata": {
        "id": "Gd25FQVH4StL"
      }
    },
    {
      "cell_type": "code",
      "source": [
        "class Vector:\n",
        "  def __init__(self,x,y):\n",
        "    self.x = x\n",
        "    self.y = y\n",
        "\n",
        "  def __add__(self,other):\n",
        "    return Vector(self.x + other.x, self.y + other.y)\n",
        "\n",
        "  def __str__(self):\n",
        "    return f\"Vector({self.x},{self.y})\"\n",
        "\n",
        "\n",
        "v1 = Vector(2,3)\n",
        "v2 = Vector(4,5)\n",
        "\n",
        "print(v1+ v2)"
      ],
      "metadata": {
        "colab": {
          "base_uri": "https://localhost:8080/"
        },
        "id": "-H8APR_lxZ5B",
        "outputId": "4f73c762-6b98-4869-f21f-c211e62e50aa"
      },
      "execution_count": null,
      "outputs": [
        {
          "output_type": "stream",
          "name": "stdout",
          "text": [
            "Vector(6,8)\n"
          ]
        }
      ]
    },
    {
      "cell_type": "markdown",
      "source": [
        "#Magic Function"
      ],
      "metadata": {
        "id": "7DLnJewz4Qb4"
      }
    },
    {
      "cell_type": "code",
      "source": [
        "class Demo:\n",
        " def __init__(self, value):\n",
        "  self.value = value\n",
        " def __str__(self):\n",
        "  return f\"Value is {self.value}\"\n",
        " def __len__(self):\n",
        "  return len(str(self.value))\n",
        "obj = Demo(12345)\n",
        "print(str(obj))\n",
        "print(len(obj))"
      ],
      "metadata": {
        "colab": {
          "base_uri": "https://localhost:8080/"
        },
        "id": "ol4mzuXKubrQ",
        "outputId": "9edc4113-4363-4bcd-d0b5-0ece6f2ed1d6"
      },
      "execution_count": null,
      "outputs": [
        {
          "output_type": "stream",
          "name": "stdout",
          "text": [
            "Value is 12345\n",
            "5\n"
          ]
        }
      ]
    },
    {
      "cell_type": "markdown",
      "source": [
        "# Dynamic Polymorphism"
      ],
      "metadata": {
        "id": "pUrwF6-h4J0C"
      }
    },
    {
      "cell_type": "code",
      "source": [
        "class Animal:\n",
        " def speak(self):\n",
        "   print(\"Animal speaks\")\n",
        "\n",
        "class Dog(Animal):\n",
        "  def speak(self):\n",
        "    print(\"Dog barks\")\n",
        "\n",
        "def make_sound(animal):\n",
        " animal.speak()\n",
        "\n",
        "make_sound(Dog())"
      ],
      "metadata": {
        "colab": {
          "base_uri": "https://localhost:8080/"
        },
        "id": "9dAjr1vKui4v",
        "outputId": "a044b58b-3149-4197-9f73-51981d410926"
      },
      "execution_count": null,
      "outputs": [
        {
          "output_type": "stream",
          "name": "stdout",
          "text": [
            "Dog barks\n"
          ]
        }
      ]
    },
    {
      "cell_type": "code",
      "source": [
        "class test:\n",
        "  def mthd(self):\n",
        "    print(\"It is the first method\")\n",
        "\n",
        "class test1:\n",
        "  def mthd(self):\n",
        "    print(\"It is the second method\")\n",
        "\n",
        "class test2:\n",
        "   def mthd(self):\n",
        "    print(\"It is the second method\")\n",
        "\n",
        "\n",
        "def test_method(var):\n",
        "  var.mthd()\n",
        "\n",
        "test_method(test2())"
      ],
      "metadata": {
        "colab": {
          "base_uri": "https://localhost:8080/"
        },
        "id": "hcw6iLy1vuih",
        "outputId": "cbdc1560-3173-4eee-9292-2671e658c4f8"
      },
      "execution_count": null,
      "outputs": [
        {
          "output_type": "stream",
          "name": "stdout",
          "text": [
            "It is the second method\n"
          ]
        }
      ]
    },
    {
      "cell_type": "markdown",
      "source": [
        "#Abstraction"
      ],
      "metadata": {
        "id": "0PrMZRvM4S2P"
      }
    },
    {
      "cell_type": "code",
      "source": [
        "from abc import ABC, abstractmethod\n",
        "\n",
        "class Animal(ABC):\n",
        "  @abstractmethod\n",
        "  def sound(self):\n",
        "    pass\n",
        "\n",
        "\n",
        "class Cat(Animal):\n",
        "  def sound(self):\n",
        "    return \"meow\"\n",
        "\n",
        "\n",
        "c = Cat()\n",
        "print(c.sound())"
      ],
      "metadata": {
        "colab": {
          "base_uri": "https://localhost:8080/"
        },
        "id": "pPbgAUXf5NV3",
        "outputId": "ee104dad-7bcd-4c95-f00f-d25c332fd698"
      },
      "execution_count": null,
      "outputs": [
        {
          "output_type": "stream",
          "name": "stdout",
          "text": [
            "meow\n"
          ]
        }
      ]
    },
    {
      "cell_type": "markdown",
      "source": [
        "# Dataclass"
      ],
      "metadata": {
        "id": "-41P0cHw34k9"
      }
    },
    {
      "cell_type": "code",
      "source": [
        "from dataclasses import dataclass\n",
        "\n",
        "@dataclass\n",
        "\n",
        "class Employee:\n",
        "  name:str\n",
        "  id:int\n",
        "  salary:int\n",
        "\n",
        "\n",
        "a = Employee('Taha', 7, 200000)\n",
        "print(a)"
      ],
      "metadata": {
        "colab": {
          "base_uri": "https://localhost:8080/"
        },
        "id": "pDIecQL_9rZW",
        "outputId": "e5ef811d-9782-46e8-e3cf-4f126e7a40f8"
      },
      "execution_count": null,
      "outputs": [
        {
          "output_type": "stream",
          "name": "stdout",
          "text": [
            "Employee(name='Taha', id=7, salary=200000)\n"
          ]
        }
      ]
    },
    {
      "cell_type": "markdown",
      "source": [
        "# Keyord Arguments"
      ],
      "metadata": {
        "id": "KY5mCj5u313T"
      }
    },
    {
      "cell_type": "code",
      "source": [
        "def MLModel(name,type,accuracy):\n",
        "  print('Hello my name is {0} and my type is {1} and I am accurate {2}'.format(name,type,accuracy))\n",
        "\n",
        "MLModel (name = 'Taha', type = 'Male' , accuracy = '100%')"
      ],
      "metadata": {
        "colab": {
          "base_uri": "https://localhost:8080/"
        },
        "id": "YVSDbCd1_fzV",
        "outputId": "9d3b6420-09dc-478d-b39a-3b5160a99071"
      },
      "execution_count": null,
      "outputs": [
        {
          "output_type": "stream",
          "name": "stdout",
          "text": [
            "Hello my name is Taha and my type is Male and I am accurate 100%\n"
          ]
        }
      ]
    }
  ]
}