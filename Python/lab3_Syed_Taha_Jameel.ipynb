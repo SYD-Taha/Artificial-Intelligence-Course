{
  "nbformat": 4,
  "nbformat_minor": 0,
  "metadata": {
    "colab": {
      "provenance": [],
      "collapsed_sections": [
        "3aGESolsSq99",
        "_bgXANBESpwC",
        "C0ON8Us_SoL6",
        "EV97CUV8SlA6",
        "RToffeLkSjqa",
        "5junfklxSiVU",
        "eQQJKAk8Sgk4",
        "ehpwte3EScam",
        "IXgupRkBSY_w",
        "yX6QPvoFSSGF",
        "tp7ma9daUZIs",
        "PZkmw7J6UNtA"
      ]
    },
    "kernelspec": {
      "name": "python3",
      "display_name": "Python 3"
    },
    "language_info": {
      "name": "python"
    }
  },
  "cells": [
    {
      "cell_type": "markdown",
      "source": [
        "#Lab-03- Syed Taha Jameel"
      ],
      "metadata": {
        "id": "W5CsezXJVQfG"
      }
    },
    {
      "cell_type": "markdown",
      "source": [
        "# Task 1 Age Group Classifier"
      ],
      "metadata": {
        "id": "3aGESolsSq99"
      }
    },
    {
      "cell_type": "code",
      "source": [
        "\n",
        "age = int(input(\"Enter your Age: \"))\n",
        "if age >= 0 and age <= 12:\n",
        "  print(\"You are a child\")\n",
        "elif age >= 13 and age <= 19:\n",
        "  print(\"You are a teenager\")\n",
        "elif age >= 20 and age <= 59:\n",
        "  print(\"You are an adult\")\n",
        "else:\n",
        "  print(\"You are a senior\")\n"
      ],
      "metadata": {
        "colab": {
          "base_uri": "https://localhost:8080/"
        },
        "id": "kQFcznN-qpBZ",
        "outputId": "b02df379-2181-4a5c-c501-0dafa22b3594"
      },
      "execution_count": null,
      "outputs": [
        {
          "output_type": "stream",
          "name": "stdout",
          "text": [
            "Enter your Age: 12\n",
            "You are a child\n"
          ]
        }
      ]
    },
    {
      "cell_type": "markdown",
      "source": [
        "# Task 2 Grading System"
      ],
      "metadata": {
        "id": "_bgXANBESpwC"
      }
    },
    {
      "cell_type": "code",
      "source": [
        "score = int(input(\"Enter your score: \"))\n",
        "if score >= 90:\n",
        " grade = \"A\"\n",
        "elif score >= 80:\n",
        " grade = \"B\"\n",
        "elif score >= 70:\n",
        " grade = \"C\"\n",
        "elif score >= 60:\n",
        " grade = \"D\"\n",
        "else:\n",
        " grade = \"F\"\n",
        "print(f\"Your grade is {grade}.\")"
      ],
      "metadata": {
        "colab": {
          "base_uri": "https://localhost:8080/",
          "height": 0
        },
        "id": "cxOFR9PARo7o",
        "outputId": "9d557307-512e-41b8-980b-0d5b048d8033"
      },
      "execution_count": 3,
      "outputs": [
        {
          "output_type": "stream",
          "name": "stdout",
          "text": [
            "Enter your score: 90\n",
            "Your grade is A.\n"
          ]
        }
      ]
    },
    {
      "cell_type": "markdown",
      "source": [
        "# Task 3 Skipping even number using continue"
      ],
      "metadata": {
        "id": "C0ON8Us_SoL6"
      }
    },
    {
      "cell_type": "code",
      "source": [
        "for i in range(1,11):\n",
        "  if (i % 2 == 0):\n",
        "    continue\n",
        "  print(i)\n",
        "\n"
      ],
      "metadata": {
        "colab": {
          "base_uri": "https://localhost:8080/"
        },
        "id": "wf7No1Apr35P",
        "outputId": "fe357084-c58b-45e6-8962-11544684ca80"
      },
      "execution_count": null,
      "outputs": [
        {
          "output_type": "stream",
          "name": "stdout",
          "text": [
            "1\n",
            "3\n",
            "5\n",
            "7\n",
            "9\n"
          ]
        }
      ]
    },
    {
      "cell_type": "markdown",
      "source": [
        "#Task 4 Breaking Loop using certain condition (break)"
      ],
      "metadata": {
        "id": "EV97CUV8SlA6"
      }
    },
    {
      "cell_type": "code",
      "source": [
        "while True:\n",
        "  num = eval(input(\"Enter a number: \"))\n",
        "  if num < 0:\n",
        "    print(\"loop terminated\")\n",
        "    break"
      ],
      "metadata": {
        "colab": {
          "base_uri": "https://localhost:8080/"
        },
        "id": "8w40u6Utu5Ne",
        "outputId": "ea6b6610-db56-4f94-a1f7-2657eb8e44ab"
      },
      "execution_count": null,
      "outputs": [
        {
          "output_type": "stream",
          "name": "stdout",
          "text": [
            "Enter a number: -1.02\n",
            "loop terminated\n"
          ]
        }
      ]
    },
    {
      "cell_type": "markdown",
      "source": [
        "# Task 5 Using Pass"
      ],
      "metadata": {
        "id": "RToffeLkSjqa"
      }
    },
    {
      "cell_type": "code",
      "source": [
        "def check_even(number):\n",
        "  if number % 2 == 0:\n",
        "    pass\n",
        "  else:\n",
        "    print(\"odd nuumber\")\n",
        "\n",
        "\n",
        "num = int(input(\"Enter a number\"))\n",
        "check_even(num)\n"
      ],
      "metadata": {
        "colab": {
          "base_uri": "https://localhost:8080/",
          "height": 0
        },
        "id": "nr4ttuPhvrrf",
        "outputId": "9fd7153a-b02e-4798-b258-e1812cf9d8be"
      },
      "execution_count": 15,
      "outputs": [
        {
          "output_type": "stream",
          "name": "stdout",
          "text": [
            "Enter a number3\n",
            "odd nuumber\n"
          ]
        }
      ]
    },
    {
      "cell_type": "markdown",
      "source": [
        "# Task 6 Using enumerate"
      ],
      "metadata": {
        "id": "5junfklxSiVU"
      }
    },
    {
      "cell_type": "code",
      "source": [
        "fruits = [\"apple\",\"banana\", \"cherry\"]\n",
        "for index, fruit in enumerate(fruits):\n",
        "  print(f\"{index}:{fruit}\")\n",
        "\n",
        "\n",
        "# Using while loop\n",
        "counter = 5\n",
        "while counter > 0:\n",
        "  print(f\"Countdown: {counter}\")\n",
        "  counter-=1"
      ],
      "metadata": {
        "colab": {
          "base_uri": "https://localhost:8080/"
        },
        "id": "gz_i4lAqxmem",
        "outputId": "e40a8bf2-df1c-41d0-a9d3-83d7bfd19f2b"
      },
      "execution_count": null,
      "outputs": [
        {
          "output_type": "stream",
          "name": "stdout",
          "text": [
            "0:apple\n",
            "1:banana\n",
            "2:cherry\n",
            "Countdown: 5\n",
            "Countdown: 4\n",
            "Countdown: 3\n",
            "Countdown: 2\n",
            "Countdown: 1\n"
          ]
        }
      ]
    },
    {
      "cell_type": "markdown",
      "source": [
        "# Increment Decrement"
      ],
      "metadata": {
        "id": "eQQJKAk8Sgk4"
      }
    },
    {
      "cell_type": "code",
      "source": [
        "a = 5\n",
        "a = a ++ 1\n",
        "print(a)\n",
        "a = a -- 1\n",
        "print(a)\n",
        "a = a +- 1\n",
        "print(a)\n",
        "a = a -+ 1\n",
        "print(a)"
      ],
      "metadata": {
        "colab": {
          "base_uri": "https://localhost:8080/"
        },
        "id": "xlqDroPKy0IV",
        "outputId": "cf9db68d-0034-4230-da68-8fafc02f8473"
      },
      "execution_count": null,
      "outputs": [
        {
          "output_type": "stream",
          "name": "stdout",
          "text": [
            "6\n",
            "7\n",
            "6\n",
            "5\n"
          ]
        }
      ]
    },
    {
      "cell_type": "code",
      "source": [
        "# Case 1: ++1\n",
        "num = 5\n",
        "num += 1  # Increment by 1\n",
        "print(f\"After ++1, num = {num}\")\n",
        "\n",
        "# Case 2: --1\n",
        "num = 5\n",
        "num -= 1  # Decrement by 1\n",
        "print(f\"After --1, num = {num}\")\n",
        "\n",
        "# Case 3: +-1\n",
        "num = 5\n",
        "num += 1  # Increment by 1\n",
        "num -= 1  # Decrement by 1\n",
        "print(f\"After +-1, num = {num}\")\n",
        "\n",
        "# Case 4: -+1\n",
        "num = 5\n",
        "num -= 1  # Decrement by 1\n",
        "num += 1  # Increment by 1\n",
        "print(f\"After -+1, num = {num}\")"
      ],
      "metadata": {
        "colab": {
          "base_uri": "https://localhost:8080/"
        },
        "id": "akUZ33Kj30ns",
        "outputId": "f4caf914-c2d0-4d66-86f1-07d0ba0c9a47"
      },
      "execution_count": null,
      "outputs": [
        {
          "output_type": "stream",
          "name": "stdout",
          "text": [
            "After ++1, num = 6\n",
            "After --1, num = 4\n",
            "After +-1, num = 5\n",
            "After -+1, num = 5\n"
          ]
        }
      ]
    },
    {
      "cell_type": "code",
      "source": [
        "i = 5\n",
        "ipp = ++ i\n",
        "print(ipp)\n",
        "\n",
        "ipp = -- i\n",
        "print(ipp)\n",
        "\n",
        "ipp = +- i\n",
        "print(ipp)\n",
        "\n",
        "ipp = -+ i\n",
        "print(ipp)\n"
      ],
      "metadata": {
        "colab": {
          "base_uri": "https://localhost:8080/"
        },
        "id": "4tsJyYDe4o0c",
        "outputId": "c0fb4eae-ba26-4181-f2c9-fbb19b8307b9"
      },
      "execution_count": null,
      "outputs": [
        {
          "output_type": "stream",
          "name": "stdout",
          "text": [
            "5\n",
            "5\n",
            "-5\n",
            "-5\n"
          ]
        }
      ]
    },
    {
      "cell_type": "markdown",
      "source": [
        "# Task 7 Login Authentication"
      ],
      "metadata": {
        "id": "ehpwte3EScam"
      }
    },
    {
      "cell_type": "code",
      "source": [
        "username = input(\"ENter username : \")\n",
        "password = input(\"ENter Password : \")\n",
        "\n",
        "if username == \"admin\":\n",
        "  if password ==\"abcd\":\n",
        "    print(\"access granted\")\n",
        "  else:\n",
        "    print(\"wrong password\")\n",
        "else:\n",
        "  print(\"wrong username\")"
      ],
      "metadata": {
        "colab": {
          "base_uri": "https://localhost:8080/"
        },
        "id": "Zq20J-ZT58nM",
        "outputId": "83b81a43-3545-48a6-a55b-42dc3cd2b8ab"
      },
      "execution_count": null,
      "outputs": [
        {
          "output_type": "stream",
          "name": "stdout",
          "text": [
            "ENter username : admin\n",
            "ENter Password : abcd\n",
            "access granted\n"
          ]
        }
      ]
    },
    {
      "cell_type": "markdown",
      "source": [
        "# Task 8 nested loop- multiplication table"
      ],
      "metadata": {
        "id": "IXgupRkBSY_w"
      }
    },
    {
      "cell_type": "code",
      "source": [
        "for i in range(1,11):\n",
        "  for j in range(1,2):\n",
        "    print(f\"{j} x {i} = {i*j}\", end=\"\\t\")\n",
        "  print()"
      ],
      "metadata": {
        "colab": {
          "base_uri": "https://localhost:8080/"
        },
        "id": "CvFgVFpr7hsT",
        "outputId": "d2f46fcb-9f36-40fc-aada-4008cf96a0ee"
      },
      "execution_count": null,
      "outputs": [
        {
          "output_type": "stream",
          "name": "stdout",
          "text": [
            "1 x 1 = 1\t\n",
            "1 x 2 = 2\t\n",
            "1 x 3 = 3\t\n",
            "1 x 4 = 4\t\n",
            "1 x 5 = 5\t\n",
            "1 x 6 = 6\t\n",
            "1 x 7 = 7\t\n",
            "1 x 8 = 8\t\n",
            "1 x 9 = 9\t\n",
            "1 x 10 = 10\t\n"
          ]
        }
      ]
    },
    {
      "cell_type": "markdown",
      "source": [
        "# Task 9 generating squared numbers"
      ],
      "metadata": {
        "id": "yX6QPvoFSSGF"
      }
    },
    {
      "cell_type": "code",
      "source": [
        "squares = [x**2 for x in range(1, 11)]\n",
        "print(squares)"
      ],
      "metadata": {
        "colab": {
          "base_uri": "https://localhost:8080/",
          "height": 0
        },
        "id": "FY4JfShX8xnb",
        "outputId": "f8322c5d-7674-40ef-d7ae-167083b98ba8"
      },
      "execution_count": 4,
      "outputs": [
        {
          "output_type": "stream",
          "name": "stdout",
          "text": [
            "[1, 4, 9, 16, 25, 36, 49, 64, 81, 100]\n"
          ]
        }
      ]
    },
    {
      "cell_type": "markdown",
      "source": [
        "# Task 10 filtering even numbers"
      ],
      "metadata": {
        "id": "tp7ma9daUZIs"
      }
    },
    {
      "cell_type": "code",
      "source": [
        "num = range(1,21)\n",
        "even_num = [i for i in num if i % 2 == 0]\n",
        "print(even_num)"
      ],
      "metadata": {
        "colab": {
          "base_uri": "https://localhost:8080/",
          "height": 0
        },
        "id": "0mIaUevLUc9d",
        "outputId": "5730babf-ba08-4c9f-ba49-0d5137d252f1"
      },
      "execution_count": 12,
      "outputs": [
        {
          "output_type": "stream",
          "name": "stdout",
          "text": [
            "[2, 4, 6, 8, 10, 12, 14, 16, 18, 20]\n"
          ]
        }
      ]
    },
    {
      "cell_type": "markdown",
      "source": [
        "# Task 11 using an iterator"
      ],
      "metadata": {
        "id": "PZkmw7J6UNtA"
      }
    },
    {
      "cell_type": "code",
      "source": [
        "var = [1,2,3,4]\n",
        "var1 = iter(var)\n",
        "print(next(var1))\n",
        "print(next(var1))\n",
        "print(next(var1))\n",
        "print(next(var1))"
      ],
      "metadata": {
        "colab": {
          "base_uri": "https://localhost:8080/",
          "height": 0
        },
        "id": "0YHtmhxhUTcO",
        "outputId": "59c886c3-820e-4560-b5cf-03b0425ca377"
      },
      "execution_count": 13,
      "outputs": [
        {
          "output_type": "stream",
          "name": "stdout",
          "text": [
            "1\n",
            "2\n",
            "3\n",
            "4\n"
          ]
        }
      ]
    }
  ]
}