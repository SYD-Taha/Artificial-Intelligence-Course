{
  "nbformat": 4,
  "nbformat_minor": 0,
  "metadata": {
    "colab": {
      "provenance": []
    },
    "kernelspec": {
      "name": "python3",
      "display_name": "Python 3"
    },
    "language_info": {
      "name": "python"
    }
  },
  "cells": [
    {
      "cell_type": "markdown",
      "source": [
        "#Syed Taha Jameel"
      ],
      "metadata": {
        "id": "cnAxZxxoO24i"
      }
    },
    {
      "cell_type": "markdown",
      "source": [
        "# Variables , Data Types , Conditions"
      ],
      "metadata": {
        "id": "fhkWlYQ0OsoE"
      }
    },
    {
      "cell_type": "markdown",
      "source": [
        "> Make a script to find out whether the number is divisible by 2 or not.\n"
      ],
      "metadata": {
        "id": "Jy6cmqSdoaqo"
      }
    },
    {
      "cell_type": "code",
      "execution_count": 6,
      "metadata": {
        "colab": {
          "base_uri": "https://localhost:8080/"
        },
        "id": "bOeMR95GNzQ5",
        "outputId": "f11a7b02-769f-4b63-c0db-6e1f3d143fb1"
      },
      "outputs": [
        {
          "output_type": "stream",
          "name": "stdout",
          "text": [
            "Enter Number : 4\n",
            "The given number is divisible by 2\n"
          ]
        }
      ],
      "source": [
        "num = int(input(\"Enter Number : \"))\n",
        "\n",
        "if num % 2 == 0:\n",
        "  print(\"The given number is divisible by 2\")\n",
        "else:\n",
        "  print(\"The given number is NOT divisible by 2\")"
      ]
    },
    {
      "cell_type": "markdown",
      "source": [
        "> Make a script to find \"e\" in var=\"Hello World\" and also make a script to find the length of any variable.\n"
      ],
      "metadata": {
        "id": "Zp_MTBQtpHIz"
      }
    },
    {
      "cell_type": "code",
      "source": [
        "var = \"Hello World\"\n",
        "print(var[1])\n",
        "# or\n",
        "a= var.find(\"e\")\n",
        "print(a)\n",
        "\n",
        "\n",
        "lnth = input(\"Enter variable to find length: \")\n",
        "print(\"The given input's length is: \",len(lnth))"
      ],
      "metadata": {
        "colab": {
          "base_uri": "https://localhost:8080/"
        },
        "id": "hAKJAL-ypIR0",
        "outputId": "bdee31fa-5fc3-4352-a63e-430ab864afd8"
      },
      "execution_count": 14,
      "outputs": [
        {
          "output_type": "stream",
          "name": "stdout",
          "text": [
            "e\n",
            "1\n",
            "Enter variable to find length: Hello World\n",
            "The given input's length is:  11\n"
          ]
        }
      ]
    },
    {
      "cell_type": "markdown",
      "source": [
        "> Make a script to find which number is greater than, less than, or equal.\n"
      ],
      "metadata": {
        "id": "-hQUN5DHrtaw"
      }
    },
    {
      "cell_type": "code",
      "source": [
        "num1 = int(input(\"Enter First Number: \"))\n",
        "num2 = int(input(\"Enter Second Number: \"))\n",
        "\n",
        "if num1 < num2:\n",
        "  print(num1,\" is less than \",num2)\n",
        "if num1 > num2:\n",
        "  print(num1,\" is greater than \",num2)\n",
        "if num1 == num2:\n",
        "  print(num1,\" is equal to \",num2)\n"
      ],
      "metadata": {
        "colab": {
          "base_uri": "https://localhost:8080/"
        },
        "id": "ZFR8d4OgrxC7",
        "outputId": "57507593-6c1c-4d12-a226-3bbdcae3bcd6"
      },
      "execution_count": 18,
      "outputs": [
        {
          "output_type": "stream",
          "name": "stdout",
          "text": [
            "Enter First Number: 30\n",
            "Enter Second Number: 20\n",
            "30  is greater than  20\n"
          ]
        }
      ]
    },
    {
      "cell_type": "markdown",
      "source": [
        "> Make a script to develop a simple calculator.\n"
      ],
      "metadata": {
        "id": "7eIXHEuCtOLr"
      }
    },
    {
      "cell_type": "code",
      "source": [
        "print(\"For Addition write 'add'\\nFor Subtraction write 'sub' \\nFor Multiplication write 'mul' \\nFor Division write 'div'\")\n",
        "select = input(\"Select one of the above operations to perform: \")\n",
        "if select == \"add\" or select == \"sub\" or select == \"mul\" or select == \"div\":\n",
        "\n",
        "  num1 = eval(input(\"Enter First Number: \"))\n",
        "  num2 = eval(input(\"Enter Second Number: \"))\n",
        "\n",
        "  add = num1 + num2\n",
        "  sub = num1 - num2\n",
        "  mul = num1 * num2\n",
        "  div = num1 / num2\n",
        "\n",
        "  if select == \"add\":\n",
        "    print(\"After addition the Ouput is: \",add)\n",
        "\n",
        "  if select == \"sub\":\n",
        "    print(\"After addition the Ouput is: \",sub)\n",
        "\n",
        "  if select == \"mul\":\n",
        "    print(\"After addition the Ouput is: \",mul)\n",
        "\n",
        "  if select == \"div\":\n",
        "    print(\"After addition the Ouput is: \",div)\n",
        "\n",
        "else:\n",
        "  print (\"Enter one of the above mentioned operations\")"
      ],
      "metadata": {
        "colab": {
          "base_uri": "https://localhost:8080/"
        },
        "id": "nj1PR981r-SX",
        "outputId": "a8c3aecc-93c9-4913-8131-b0d61e6061d7"
      },
      "execution_count": 35,
      "outputs": [
        {
          "output_type": "stream",
          "name": "stdout",
          "text": [
            "For Addition write 'add'\n",
            "For Subtraction write 'sub' \n",
            "For Multiplication write 'mul' \n",
            "For Division write 'div'\n",
            "Select one of the above operations to perform: add\n",
            "Enter First Number: 20\n",
            "Enter Second Number: 2\n",
            "After addition the Ouput is:  22\n"
          ]
        }
      ]
    },
    {
      "cell_type": "markdown",
      "source": [
        "> Make a script to design a patient information-gathering system.\n"
      ],
      "metadata": {
        "id": "WGVCwDhcwvx3"
      }
    },
    {
      "cell_type": "code",
      "source": [
        "patient_record = []\n",
        "\n",
        "while True:\n",
        "  check = input(\"press enter to Enter Record and anything else to exit\")\n",
        "  if check == \"\":\n",
        "    name = input(\"> Enter Your Name: \")\n",
        "    age = input(\"> Enter Your age: \")\n",
        "    gender = input(\"> Enter Your Gender: \")\n",
        "    marital_Status = input(\"> Enter Your Marital Status: \")\n",
        "    patient_record.append(name)\n",
        "    patient_record.append(age)\n",
        "    patient_record.append(gender)\n",
        "    patient_record.append(marital_Status)\n",
        "\n",
        "    print(patient_record)\n",
        "\n",
        "  else:\n",
        "    break\n"
      ],
      "metadata": {
        "colab": {
          "base_uri": "https://localhost:8080/"
        },
        "id": "s-bQ8bX-wxMf",
        "outputId": "3dd6f97f-eae7-4987-9456-e853f86a19ec"
      },
      "execution_count": 45,
      "outputs": [
        {
          "name": "stdout",
          "output_type": "stream",
          "text": [
            "press enter to Enter Record and anything else to exit\n",
            "> Enter Your Name: Syed Taha Jameel\n",
            "> Enter Your age: 22\n",
            "> Enter Your Gender: Male\n",
            "> Enter Your Marital Status: Single\n",
            "['Syed Taha Jameel', '22', 'Male', 'Single']\n",
            "press enter to Enter Record and anything else to exit \n"
          ]
        }
      ]
    },
    {
      "cell_type": "markdown",
      "source": [
        "> Develop a program that asks the user for two numbers and performs the following:\n",
        "      a) If both numbers are positive, multiply them.\n",
        "      b) If both numbers are negative, add them.\n",
        "      c) If one is positive and the other is negative, find their difference."
      ],
      "metadata": {
        "id": "s2ODkg-80oXW"
      }
    },
    {
      "cell_type": "code",
      "source": [
        "c = 0\n",
        "while c < 3:                                                              # just to show all outputs\n",
        "  num1 = int(input(\"Enter First number (You can include signs as well) : \"))\n",
        "  num2 = int(input(\"Enter Second number (You can include signs as well) : \"))\n",
        "\n",
        "  if num1 < 0 and num2 < 0:\n",
        "    add = num1 + num2\n",
        "    print(add)\n",
        "  if num1 > 0 and num2 > 0:\n",
        "    mul = num1 * num2\n",
        "    print(mul)\n",
        "  if num1 < 0 and num2 > 0 or num1 > 0 and num2 < 0:\n",
        "    div = num1 / num2\n",
        "    print(div)\n",
        "  c+=1"
      ],
      "metadata": {
        "colab": {
          "base_uri": "https://localhost:8080/"
        },
        "id": "zwCf-R_exMQj",
        "outputId": "683f73ce-b7ec-4ca2-def2-ddd0f12d2d38"
      },
      "execution_count": 57,
      "outputs": [
        {
          "output_type": "stream",
          "name": "stdout",
          "text": [
            "Enter First number (You can include signs as well) : 2\n",
            "Enter Second number (You can include signs as well) : 3\n",
            "6\n",
            "Enter First number (You can include signs as well) : -4\n",
            "Enter Second number (You can include signs as well) : -5\n",
            "-9\n",
            "Enter First number (You can include signs as well) : -6\n",
            "Enter Second number (You can include signs as well) : 3\n",
            "-2.0\n"
          ]
        }
      ]
    },
    {
      "cell_type": "markdown",
      "source": [
        "> Design a Python program that takes a student's score as input. Based on the score, provide the corresponding grade according to the following criteria:\n",
        "\n",
        "> a) If the score is between 90 and 100 (inclusive)print \"A\"\n",
        "\n",
        ">b) If the score is between 80 and 89, print \"B\"\n",
        "\n",
        ">c)  If the score is between 70 and 79, print \"C\"\n",
        "\n",
        ">d)  If the score is between 60 and 69, print \"D\"\n",
        "\n",
        ">e)  If the score is below 60, print \"F\""
      ],
      "metadata": {
        "id": "ZO-mOOCB4Qvy"
      }
    },
    {
      "cell_type": "code",
      "source": [
        "c = 0\n",
        "while c <15:                                      # just to show all outputs\n",
        "  score = int(input(\"Enter Score to be graded: \"))\n",
        "\n",
        "  if score >= 90 and score <=100:\n",
        "    grade = \"A\"\n",
        "  if score >= 80 and score <=89:\n",
        "    grade = \"B\"\n",
        "  if score >= 70 and score <=79:\n",
        "    grade = \"C\"\n",
        "  if score >= 60 and score <=69:\n",
        "    grade = \"D\"\n",
        "  if score < 60:\n",
        "    grade = \"F\"\n",
        "\n",
        "  print(\"Your grade is:\",grade)\n",
        "  c+=1"
      ],
      "metadata": {
        "colab": {
          "base_uri": "https://localhost:8080/"
        },
        "id": "O4lcagIz04Jd",
        "outputId": "d21d8ad9-08ca-4cb1-bc97-12cc87f7099c"
      },
      "execution_count": 67,
      "outputs": [
        {
          "output_type": "stream",
          "name": "stdout",
          "text": [
            "Enter Score to be graded: 100\n",
            "Your grade is: A\n",
            "Enter Score to be graded: 95\n",
            "Your grade is: A\n",
            "Enter Score to be graded: 90\n",
            "Your grade is: A\n",
            "Enter Score to be graded: 89\n",
            "Your grade is: B\n",
            "Enter Score to be graded: 85\n",
            "Your grade is: B\n",
            "Enter Score to be graded: 80\n",
            "Your grade is: B\n",
            "Enter Score to be graded: 79\n",
            "Your grade is: C\n",
            "Enter Score to be graded: 75\n",
            "Your grade is: C\n",
            "Enter Score to be graded: 70\n",
            "Your grade is: C\n",
            "Enter Score to be graded: 69\n",
            "Your grade is: D\n",
            "Enter Score to be graded: 65\n",
            "Your grade is: D\n",
            "Enter Score to be graded: 60\n",
            "Your grade is: D\n",
            "Enter Score to be graded: 59\n",
            "Your grade is: F\n",
            "Enter Score to be graded: 40\n",
            "Your grade is: F\n",
            "Enter Score to be graded: 10\n",
            "Your grade is: F\n"
          ]
        }
      ]
    },
    {
      "cell_type": "markdown",
      "source": [
        "> Create a Python script that prompts the user for their age and the type of ticket they want to purchase (regular or VIP). Based on the following criteria, determine and print the ticket price:      a)  Regular ticket prices:\n",
        "              a)  Below 18 years: $8\n",
        "              b)  18 to 64 years: $12\n",
        "              c)  65 years and above: $6\n",
        "      b)  VIP ticket prices:\n",
        "              a)  Below 18 years: $15\n",
        "              b)  18 to 64 years: $20\n",
        "              c)  65 years and above: $10"
      ],
      "metadata": {
        "id": "FUX7Q49r68Dm"
      }
    },
    {
      "cell_type": "code",
      "source": [
        "c=0\n",
        "while c < 6:                                                    # just to show all outputs\n",
        "\n",
        "  age = int(input(\"Enter Your Age: \"))\n",
        "  ticket = input(\"Enter 1 for 'Regular' ticket and 2 for 'VIP' ticket: \")\n",
        "\n",
        "  if ticket == \"1\":\n",
        "    if age < 18:\n",
        "      print(\"Ticket price is $8\")\n",
        "    if age >= 18 and age <= 64:\n",
        "      print(\"Ticket price is $12\")\n",
        "    if age >= 65:\n",
        "      print(\"Ticket price is $6\")\n",
        "\n",
        "  elif ticket == \"2\":\n",
        "    if age < 18:\n",
        "      print(\"Ticket price is $15\")\n",
        "    if age >= 18 and age <= 64:\n",
        "      print(\"Ticket price is $20\")\n",
        "    if age >= 65:\n",
        "      print(\"Ticket price is $10\")\n",
        "\n",
        "  else:\n",
        "    print(\"Please select 1 or 2 for 'Regular' or 'VIP' ticket type\")\n",
        "\n",
        "  c+=1"
      ],
      "metadata": {
        "colab": {
          "base_uri": "https://localhost:8080/"
        },
        "id": "ih3hm4i26-L2",
        "outputId": "a2993d24-062b-4e62-c006-0c46b06a4c59"
      },
      "execution_count": 84,
      "outputs": [
        {
          "output_type": "stream",
          "name": "stdout",
          "text": [
            "Enter Your Age: 17\n",
            "Enter 1 for 'Regular' ticket and 2 for 'VIP' ticket: 1\n",
            "Ticket price is $8\n",
            "Enter Your Age: 17\n",
            "Enter 1 for 'Regular' ticket and 2 for 'VIP' ticket: 2\n",
            "Ticket price is $15\n",
            "Enter Your Age: 18\n",
            "Enter 1 for 'Regular' ticket and 2 for 'VIP' ticket: 1\n",
            "Ticket price is $12\n",
            "Enter Your Age: 18\n",
            "Enter 1 for 'Regular' ticket and 2 for 'VIP' ticket: 2\n",
            "Ticket price is $20\n",
            "Enter Your Age: 65\n",
            "Enter 1 for 'Regular' ticket and 2 for 'VIP' ticket: 1\n",
            "Ticket price is $6\n",
            "Enter Your Age: 65\n",
            "Enter 1 for 'Regular' ticket and 2 for 'VIP' ticket: 2\n",
            "Ticket price is $10\n"
          ]
        }
      ]
    },
    {
      "cell_type": "markdown",
      "source": [
        ">Write a program that categorizes a person's BMI into different categories (Underweight, Normal, Overweight, Obese)."
      ],
      "metadata": {
        "id": "8SMCExne-bOx"
      }
    },
    {
      "cell_type": "code",
      "source": [
        "weight = float(input(\"Enter your Weight in kg: \"))\n",
        "height = float(input(\"Enter your Height in m squared: \"))\n",
        "\n",
        "bmi = weight / height\n",
        "\n",
        "if bmi < 18.5:\n",
        "  print(\"You are UNDERWEIGHT\")\n",
        "elif bmi >= 18.5 and bmi <= 24.9:\n",
        "  print(\"You are NORMAL\")\n",
        "elif bmi >= 25 and bmi <= 29.9:\n",
        "  print(\"You are OVERWEIGHT\")\n",
        "elif bmi >= 30:\n",
        "  print(\"You are OBESE\")"
      ],
      "metadata": {
        "colab": {
          "base_uri": "https://localhost:8080/"
        },
        "id": "a7GGEXG37bfK",
        "outputId": "ace066d8-53c6-442f-8628-4cb0798208ae"
      },
      "execution_count": 96,
      "outputs": [
        {
          "output_type": "stream",
          "name": "stdout",
          "text": [
            "Enter your Weight in kg: 60\n",
            "Enter your Height in m squared: 2.9\n",
            "You are NORMAL\n"
          ]
        }
      ]
    },
    {
      "cell_type": "markdown",
      "source": [
        ">Create a program that checks if a person is eligible to vote based on their age.\n"
      ],
      "metadata": {
        "id": "vrzlIZ2v-dGt"
      }
    },
    {
      "cell_type": "code",
      "source": [
        "age = int(input(\"Enter your age: \"))\n",
        "\n",
        "if age < 18:\n",
        "  print(\"Sorry You are unelgible to vote\")\n",
        "else:\n",
        "  print(\"You are eligible to vote\")\n"
      ],
      "metadata": {
        "colab": {
          "base_uri": "https://localhost:8080/"
        },
        "id": "a1pS_Dp_-ext",
        "outputId": "075c35b2-17a7-44a3-8f5c-d18bc2be203f"
      },
      "execution_count": 89,
      "outputs": [
        {
          "output_type": "stream",
          "name": "stdout",
          "text": [
            "Enter your age: 29\n",
            "You are eligible to vote\n"
          ]
        }
      ]
    }
  ]
}