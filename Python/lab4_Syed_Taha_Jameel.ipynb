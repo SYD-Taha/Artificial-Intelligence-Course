{
  "nbformat": 4,
  "nbformat_minor": 0,
  "metadata": {
    "colab": {
      "provenance": [],
      "collapsed_sections": [
        "fXQkAwHKSD64",
        "n0kGq1HaH0Bi",
        "ue-WM9BDH3wy",
        "t5sT6hfcLE7j",
        "ht3WvecHS3I8",
        "Cw-YyecTOARh",
        "GZkdvxfDTCuf",
        "QrcdKWUVQUjY",
        "jygyQAhWRfrA",
        "EZjmrIZxTRaR",
        "gcUT-RbXTYRh"
      ]
    },
    "kernelspec": {
      "name": "python3",
      "display_name": "Python 3"
    },
    "language_info": {
      "name": "python"
    }
  },
  "cells": [
    {
      "cell_type": "markdown",
      "source": [
        "#1.Function"
      ],
      "metadata": {
        "id": "1dlloRm0R5zy"
      }
    },
    {
      "cell_type": "code",
      "execution_count": null,
      "metadata": {
        "colab": {
          "base_uri": "https://localhost:8080/"
        },
        "id": "07Tvb8TNBozv",
        "outputId": "9442ef3b-1fef-46a3-e8fa-d44ad079b294"
      },
      "outputs": [
        {
          "output_type": "stream",
          "name": "stdout",
          "text": [
            "15\n"
          ]
        }
      ],
      "source": [
        "def add_number (a,b):\n",
        "  return a+b\n",
        "\n",
        "result = add_number(5,10)\n",
        "print(result)"
      ]
    },
    {
      "cell_type": "markdown",
      "source": [
        "# Task\n",
        "\n",
        "> Write a function to find the factorial of a number.\n"
      ],
      "metadata": {
        "id": "TiUkaLo7FADc"
      }
    },
    {
      "cell_type": "code",
      "source": [
        "def factorial(n):\n",
        "    if n == 0 or n == 1:\n",
        "        return 1\n",
        "    else:\n",
        "        return n * factorial(n - 1)\n",
        "\n",
        "\n",
        "var = int(input(\"Enter Number to find factorial : \"))\n",
        "print(factorial(var))\n",
        "\n"
      ],
      "metadata": {
        "colab": {
          "base_uri": "https://localhost:8080/"
        },
        "id": "pTfWSSe7CGL0",
        "outputId": "5e978bbd-e72c-4976-a82c-b0afcc3f6ddd"
      },
      "execution_count": null,
      "outputs": [
        {
          "output_type": "stream",
          "name": "stdout",
          "text": [
            "Enter Number to find factorial : 4\n",
            "24\n"
          ]
        }
      ]
    },
    {
      "cell_type": "markdown",
      "source": [
        "#2. Functions and Variable Scope"
      ],
      "metadata": {
        "id": "fXQkAwHKSD64"
      }
    },
    {
      "cell_type": "code",
      "source": [
        "x =10\n",
        "def example_func():\n",
        "  y = 5\n",
        "  print(\"inside Function: \",y)\n",
        "\n",
        "example_func()\n",
        "print(\"Outside Function: \",x)"
      ],
      "metadata": {
        "colab": {
          "base_uri": "https://localhost:8080/"
        },
        "id": "wUuwBli1Ej3L",
        "outputId": "996637fe-b8b3-4c7f-e412-31eef222a345"
      },
      "execution_count": null,
      "outputs": [
        {
          "output_type": "stream",
          "name": "stdout",
          "text": [
            "inside Function:  5\n",
            "Outside Function:  10\n"
          ]
        }
      ]
    },
    {
      "cell_type": "markdown",
      "source": [
        "# Task\n",
        "\n",
        "> Create a function where a local variable and a global variable have the same\n",
        "name. Print both values"
      ],
      "metadata": {
        "id": "RkdNM4sKFTMT"
      }
    },
    {
      "cell_type": "code",
      "source": [
        "var = 10\n",
        "\n",
        "def func(n):\n",
        "  var = n-1\n",
        "  return var\n",
        "\n",
        "a = int(input(\"Enter Number : \"))\n",
        "b = func(a)\n",
        "print(b,var)"
      ],
      "metadata": {
        "colab": {
          "base_uri": "https://localhost:8080/",
          "height": 0
        },
        "id": "n4ENEWUlFUsD",
        "outputId": "4cb4f322-849f-43d6-c06f-113564e96941"
      },
      "execution_count": 10,
      "outputs": [
        {
          "output_type": "stream",
          "name": "stdout",
          "text": [
            "Enter Number : 12\n",
            "11 10\n"
          ]
        }
      ]
    },
    {
      "cell_type": "markdown",
      "source": [
        "#3. Lambda Function"
      ],
      "metadata": {
        "id": "n0kGq1HaH0Bi"
      }
    },
    {
      "cell_type": "code",
      "source": [
        "cube = lambda x : x*x*x\n",
        "print(\"Cube of 3 is \",cube(3))"
      ],
      "metadata": {
        "colab": {
          "base_uri": "https://localhost:8080/"
        },
        "id": "rBGAiETKHE27",
        "outputId": "d4d19814-bdea-4cf5-a89f-e78ec7aafea6"
      },
      "execution_count": null,
      "outputs": [
        {
          "output_type": "stream",
          "name": "stdout",
          "text": [
            "Cube of 3 is  27\n"
          ]
        }
      ]
    },
    {
      "cell_type": "markdown",
      "source": [
        "# Task\n",
        "\n",
        ">Write a lambda function to check if a number is even or odd.\n"
      ],
      "metadata": {
        "id": "ue-WM9BDH3wy"
      }
    },
    {
      "cell_type": "code",
      "source": [
        "even = lambda x :x%2==0\n",
        "print(\"check even: \", even(2))"
      ],
      "metadata": {
        "colab": {
          "base_uri": "https://localhost:8080/",
          "height": 0
        },
        "id": "8u-nouiwH3Oy",
        "outputId": "b1173806-2f3a-4ece-a23d-df850e76b2e5"
      },
      "execution_count": 2,
      "outputs": [
        {
          "output_type": "stream",
          "name": "stdout",
          "text": [
            "check even:  True\n"
          ]
        }
      ]
    },
    {
      "cell_type": "markdown",
      "source": [
        "#4. Filter and map"
      ],
      "metadata": {
        "id": "r7tMTdNzI8mK"
      }
    },
    {
      "cell_type": "code",
      "source": [
        "numbers = [1,2,3,4,5]\n",
        "squared_numbers = list(map(lambda x:x**2, numbers))\n",
        "print(\"Squared numbers:\" ,squared_numbers)\n",
        "\n",
        "even_numbers = list(filter(lambda x:x%2==0, numbers))\n",
        "print(\"Even numbers:\" ,even_numbers)"
      ],
      "metadata": {
        "colab": {
          "base_uri": "https://localhost:8080/"
        },
        "id": "EsWXS5JgJAs6",
        "outputId": "a1ba4dda-e135-4b5a-8b74-6497dc3fc95c"
      },
      "execution_count": null,
      "outputs": [
        {
          "output_type": "stream",
          "name": "stdout",
          "text": [
            "Squared numbers: [1, 4, 9, 16, 25]\n",
            "Even numbers: [2, 4]\n"
          ]
        }
      ]
    },
    {
      "cell_type": "markdown",
      "source": [
        "#Task\n",
        "\n",
        ">Use map() to convert a list of temperatures from Celsius to Fahrenheit.\n",
        "\n",
        ">Use filter() to extract prime numbers from a list."
      ],
      "metadata": {
        "id": "qFE6FyN1SuCB"
      }
    },
    {
      "cell_type": "code",
      "source": [
        "# USING MAP TO CONVERT CELCIUS TO FARENHEIT\n",
        "\n",
        "temp_celcius = [0, 10, 20, 30, 40, 50]\n",
        "conv_temp = list(map(lambda x:(x*9/5)+32, temp))\n",
        "print(\"Temperatue in Farenheit is:\", conv_temp)\n",
        "\n",
        "\n",
        "# USING FILTER TO FIND PRIME NUMBERS\n",
        "\n",
        "numbers = [1,2,3,4,5,6,7,8,9,10]\n",
        "\n",
        "def prime(n):\n",
        "\n",
        "  if n < 2:\n",
        "    return False\n",
        "  for i in range(2,int(n ** 0.5) + 1):\n",
        "    if n % i==0:\n",
        "      return False\n",
        "\n",
        "  return True\n",
        "\n",
        "\n",
        "prime_num = list (filter(prime, numbers))\n",
        "print(\"\\nPrime numbers in the given list are: \",prime_num)\n",
        "\n"
      ],
      "metadata": {
        "colab": {
          "base_uri": "https://localhost:8080/",
          "height": 0
        },
        "id": "lAVH-It0VVvh",
        "outputId": "a88ba35e-6ab8-4d00-e248-901948f3c15b"
      },
      "execution_count": 23,
      "outputs": [
        {
          "output_type": "stream",
          "name": "stdout",
          "text": [
            "Temperatue in Farenheit is: [32.0, 50.0, 68.0, 86.0, 104.0, 122.0]\n",
            "\n",
            "Prime numbers in the given list are:  [2, 3, 5, 7]\n"
          ]
        }
      ]
    },
    {
      "cell_type": "markdown",
      "source": [
        "#5. Nested Function"
      ],
      "metadata": {
        "id": "t5sT6hfcLE7j"
      }
    },
    {
      "cell_type": "code",
      "source": [
        "def outer_function():\n",
        " def inner_function():\n",
        "   print(\"Hello from inner function!\")\n",
        " inner_function()\n",
        "outer_function()"
      ],
      "metadata": {
        "colab": {
          "base_uri": "https://localhost:8080/",
          "height": 0
        },
        "id": "ZN3FywEiS5Zs",
        "outputId": "182a09db-ee9f-4acb-c85b-79cad867d4a7"
      },
      "execution_count": 4,
      "outputs": [
        {
          "output_type": "stream",
          "name": "stdout",
          "text": [
            "Hello from inner function!\n"
          ]
        }
      ]
    },
    {
      "cell_type": "markdown",
      "source": [
        "#Task\n",
        "\n",
        "> Write a function that has an inner function to calculate the square of a number.\n",
        "\n"
      ],
      "metadata": {
        "id": "ht3WvecHS3I8"
      }
    },
    {
      "cell_type": "code",
      "source": [
        "def outer():\n",
        "  def inner(n):\n",
        "    a = n**2\n",
        "    return a\n",
        "  return inner(5)\n",
        "\n",
        "print(outer())"
      ],
      "metadata": {
        "colab": {
          "base_uri": "https://localhost:8080/"
        },
        "id": "h5_kBDBELHJB",
        "outputId": "56916af9-3db8-4cd9-9d5d-49f00de11d7e"
      },
      "execution_count": null,
      "outputs": [
        {
          "output_type": "stream",
          "name": "stdout",
          "text": [
            "25\n"
          ]
        }
      ]
    },
    {
      "cell_type": "markdown",
      "source": [
        "#6. Reading and Writing to a text file"
      ],
      "metadata": {
        "id": "Cw-YyecTOARh"
      }
    },
    {
      "cell_type": "code",
      "source": [
        "#writing\n",
        "\n",
        "with open(\"aitest.txt\",\"w\") as file:\n",
        "  file.write(\"Hello, AI lab!\")\n",
        "\n",
        "with open(\"aitest.txt\",\"r\") as file:\n",
        "  content = file.read()\n",
        "  print(\"File Content: \",content)"
      ],
      "metadata": {
        "colab": {
          "base_uri": "https://localhost:8080/"
        },
        "id": "crp2blAZN_Fw",
        "outputId": "a94923c3-a0ff-4f23-bd6d-9e08d1ba9b15"
      },
      "execution_count": null,
      "outputs": [
        {
          "output_type": "stream",
          "name": "stdout",
          "text": [
            "File Content:  Hello, AI lab!\n"
          ]
        }
      ]
    },
    {
      "cell_type": "markdown",
      "source": [
        "#Task\n",
        "\n",
        "> Write a Python program to read a CSV file and print its content.\n",
        "\n",
        "\n"
      ],
      "metadata": {
        "id": "GZkdvxfDTCuf"
      }
    },
    {
      "cell_type": "code",
      "source": [
        "with open(\"testing.csv\",\"r\") as file:\n",
        "  content = file.read()\n",
        "  print(\"CSV FILE Content: \", content)"
      ],
      "metadata": {
        "colab": {
          "base_uri": "https://localhost:8080/",
          "height": 0
        },
        "id": "ucuj3u2NVME9",
        "outputId": "18ddcbf5-896f-4ca2-8359-9a4649aa3afb"
      },
      "execution_count": 27,
      "outputs": [
        {
          "output_type": "stream",
          "name": "stdout",
          "text": [
            "CSV FILE Content:  Invoice Signing and Receiving Registration Form,,,,,,,\n",
            "Order,Supplier,Date,Invoice No.,Amount,Item,Delivery date,Signature\n",
            "1,Syed Taha Jameel,21/5/2025,0100101,250000,18,22/5/2025,STJ\n",
            "2,,,,,,,\n",
            "3,,,,,,,\n",
            "4,,,,,,,\n",
            "5,,,,,,,\n",
            "6,,,,,,,\n",
            "7,,,,,,,\n",
            "8,,,,,,,\n",
            "9,,,,,,,\n",
            "10,,,,,,,\n",
            "11,,,,,,,\n",
            "12,,,,,,,\n",
            "13,,,,,,,\n",
            "14,,,,,,,\n",
            "15,,,,,,,\n",
            "16,,,,,,,\n",
            "17,,,,,,,\n",
            "18,,,,,,,\n",
            "19,,,,,,,\n",
            "20,,,,,,,\n",
            ",,,,,,,\n",
            "\n"
          ]
        }
      ]
    },
    {
      "cell_type": "markdown",
      "source": [
        "#7. Exception Handling"
      ],
      "metadata": {
        "id": "QrcdKWUVQUjY"
      }
    },
    {
      "cell_type": "code",
      "source": [
        "try:\n",
        "  num = int(input(\"Enter a number: \"))\n",
        "  print(\"Reciprocal:\",1/num)\n",
        "\n",
        "except ZeroDivisionError:\n",
        "  print(\"Cannot divide by zero\")\n",
        "\n",
        "except ValueError:\n",
        "  print(\"Invalid input \")\n"
      ],
      "metadata": {
        "colab": {
          "base_uri": "https://localhost:8080/"
        },
        "id": "v6vZuveTQT1o",
        "outputId": "409eb9ec-ca0b-49b5-8475-b7ad570be8e6"
      },
      "execution_count": null,
      "outputs": [
        {
          "output_type": "stream",
          "name": "stdout",
          "text": [
            "Enter a number: a\n",
            "Invalid input \n"
          ]
        }
      ]
    },
    {
      "cell_type": "markdown",
      "source": [
        "# Task\n",
        "\n",
        "\n",
        "> Handle multiple exceptions: divide by zero and type errors.\n",
        "\n"
      ],
      "metadata": {
        "id": "jygyQAhWRfrA"
      }
    },
    {
      "cell_type": "code",
      "source": [
        "try:\n",
        "  num = int(input(\"Enter a number: \"))\n",
        "  print(\"Reciprocal:\",num/0)\n",
        "\n",
        "except ZeroDivisionError:\n",
        "  print(\"Cannot divide by zero\")\n",
        "\n",
        "except TypeError:\n",
        "  print(\"Invalid type \")\n"
      ],
      "metadata": {
        "colab": {
          "base_uri": "https://localhost:8080/"
        },
        "id": "d77OBbn3Rhbv",
        "outputId": "d234bd7d-b6a3-4f53-d0ea-4760a89d50b4"
      },
      "execution_count": null,
      "outputs": [
        {
          "output_type": "stream",
          "name": "stdout",
          "text": [
            "Enter a number: 50\n",
            "Cannot divide by zero\n"
          ]
        }
      ]
    },
    {
      "cell_type": "markdown",
      "source": [
        "#8. Classes and Objects"
      ],
      "metadata": {
        "id": "EZjmrIZxTRaR"
      }
    },
    {
      "cell_type": "code",
      "source": [
        "class Car:\n",
        " def __init__(self, brand, model):\n",
        "  self.brand = brand\n",
        "  self.model = model\n",
        " def display_info(self):\n",
        "  print(f\"Car: {self.brand} {self.model}\")\n",
        "my_car = Car(\"Tesla\", \"Model S\")\n",
        "my_car.display_info()"
      ],
      "metadata": {
        "colab": {
          "base_uri": "https://localhost:8080/",
          "height": 0
        },
        "id": "YOyNdex1TUUw",
        "outputId": "080fcb9e-830a-4954-bfad-135e8cefa619"
      },
      "execution_count": 5,
      "outputs": [
        {
          "output_type": "stream",
          "name": "stdout",
          "text": [
            "Car: Tesla Model S\n"
          ]
        }
      ]
    },
    {
      "cell_type": "markdown",
      "source": [
        "#Task\n",
        "\n",
        "> Create a class for \"Student\" with attributes name and age and a method to display\n",
        "student details.\n",
        "\n",
        "\n"
      ],
      "metadata": {
        "id": "gcUT-RbXTYRh"
      }
    },
    {
      "cell_type": "code",
      "source": [
        "class Student:\n",
        "  def __init__(self,name,age):\n",
        "    self.name = name\n",
        "    self.age = age\n",
        "\n",
        "  def stud_detail(self):\n",
        "    print(f\"Student: {self.name} {self.age}\")\n",
        "\n",
        "First_Student = Student(\"Taha\", \"22\")\n",
        "First_Student.stud_detail()\n"
      ],
      "metadata": {
        "colab": {
          "base_uri": "https://localhost:8080/",
          "height": 0
        },
        "id": "tCdOOWHPTic1",
        "outputId": "3cbed14d-ea45-434a-ceb8-e5699c6888ed"
      },
      "execution_count": 9,
      "outputs": [
        {
          "output_type": "stream",
          "name": "stdout",
          "text": [
            "Student: Taha 22\n"
          ]
        }
      ]
    }
  ]
}