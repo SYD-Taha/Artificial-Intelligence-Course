{
  "nbformat": 4,
  "nbformat_minor": 0,
  "metadata": {
    "colab": {
      "provenance": []
    },
    "kernelspec": {
      "name": "python3",
      "display_name": "Python 3"
    },
    "language_info": {
      "name": "python"
    }
  },
  "cells": [
    {
      "cell_type": "markdown",
      "source": [
        "# SYED TAHA JAMEEL"
      ],
      "metadata": {
        "id": "RBVfq8yJ0Wjb"
      }
    },
    {
      "cell_type": "markdown",
      "source": [
        "#1. Inheritance"
      ],
      "metadata": {
        "id": "Of0OkejDq--9"
      }
    },
    {
      "cell_type": "code",
      "execution_count": null,
      "metadata": {
        "colab": {
          "base_uri": "https://localhost:8080/"
        },
        "id": "0ADgBfKkjICM",
        "outputId": "e23cf060-d14a-4d63-d7e2-c49b0e5feb0b"
      },
      "outputs": [
        {
          "output_type": "stream",
          "name": "stdout",
          "text": [
            "I am driving a car\n",
            "The vehicle is Moving\n",
            "I am riding a bike\n",
            "The vehicle is Moving\n"
          ]
        }
      ],
      "source": [
        "class Vehicle:\n",
        "  def move(self):\n",
        "    print(\"The vehicle is Moving\")\n",
        "\n",
        "class Car(Vehicle):\n",
        "  def drive(self):\n",
        "    print(\"I am driving a car\")\n",
        "\n",
        "class Bike(Vehicle):\n",
        "  def ride(self):\n",
        "    print(\"I am riding a bike\")\n",
        "\n",
        "\n",
        "a = Car()\n",
        "a.drive()\n",
        "a.move()\n",
        "\n",
        "b = Bike()\n",
        "b.ride()\n",
        "b.move()"
      ]
    },
    {
      "cell_type": "markdown",
      "source": [
        "# 2. Multilevel Inheritance"
      ],
      "metadata": {
        "id": "1ceLUpHHs6dt"
      }
    },
    {
      "cell_type": "code",
      "source": [
        "class Device():\n",
        "  def work(self):\n",
        "    print(\"The device is working\")\n",
        "\n",
        "class computer(Device):\n",
        "  def processor(self):\n",
        "    print(\"The computer has a hard core processor\")\n",
        "\n",
        "class laptop(computer):\n",
        "  def run(self):\n",
        "    print(\"The laptop is working\")\n",
        "\n",
        "\n",
        "new = laptop()\n",
        "new.run()\n",
        "new.work()\n",
        "\n",
        "new1 = computer()\n",
        "new.work()\n",
        "new.processor()"
      ],
      "metadata": {
        "colab": {
          "base_uri": "https://localhost:8080/"
        },
        "id": "JmRHNHfdr6lV",
        "outputId": "2984cd05-54db-4f90-9868-015312eb1f51"
      },
      "execution_count": null,
      "outputs": [
        {
          "output_type": "stream",
          "name": "stdout",
          "text": [
            "The device is working\n",
            "The laptop is working\n",
            "The device is working\n",
            "The computer has a hard core processor\n"
          ]
        }
      ]
    },
    {
      "cell_type": "markdown",
      "source": [
        "# 3. Hierarchical Inheritance\n"
      ],
      "metadata": {
        "id": "T3ToZKWWuWQs"
      }
    },
    {
      "cell_type": "code",
      "source": [
        "class Shape:\n",
        "  def make(self):\n",
        "    print(\"I am making a shape in the shape class\")\n",
        "\n",
        "class Circle(Shape):\n",
        "  def make_circle(self):\n",
        "    print(\"I am making a circle\")\n",
        "class Rectangle(Shape):\n",
        "  def make_rectangle(self):\n",
        "    print(\"I am making a rectangle\")\n",
        "class Triangle(Shape):\n",
        "  def make_triangle(self):\n",
        "    print(\"I am making a Triangle\")\n",
        "\n",
        "\n",
        "c = Circle()\n",
        "r = Rectangle()\n",
        "t = Triangle()\n",
        "\n",
        "\n",
        "c.make()\n",
        "c.make_circle()\n",
        "\n",
        "r.make()\n",
        "r.make_rectangle()\n",
        "\n",
        "t.make()\n",
        "t.make_triangle()"
      ],
      "metadata": {
        "colab": {
          "base_uri": "https://localhost:8080/"
        },
        "id": "2TxMH6gmucw0",
        "outputId": "8aa2d6a0-05cd-41e1-c16a-aadade9e2fac"
      },
      "execution_count": null,
      "outputs": [
        {
          "output_type": "stream",
          "name": "stdout",
          "text": [
            "I am making a shape in the shape class\n",
            "I am making a circle\n",
            "I am making a shape in the shape class\n",
            "I am making a rectangle\n",
            "I am making a shape in the shape class\n",
            "I am making a Triangle\n"
          ]
        }
      ]
    },
    {
      "cell_type": "markdown",
      "source": [
        "#4. Multiple Inheritance & MRO\n"
      ],
      "metadata": {
        "id": "yaNn96iswlEr"
      }
    },
    {
      "cell_type": "code",
      "source": [
        "class Writer:\n",
        " def show(self):\n",
        "  print(\"writer class\")\n",
        "\n",
        "class Speaker:\n",
        " def show(self):\n",
        "  print(\"Speaker class\")\n",
        "\n",
        "class Author(Writer, Speaker):\n",
        "  def show(self):\n",
        "    Writer.show(self)\n",
        "    Speaker.show(self)\n",
        "\n",
        "obj = Author()\n",
        "obj.show()"
      ],
      "metadata": {
        "colab": {
          "base_uri": "https://localhost:8080/"
        },
        "id": "0tKqItU7veyD",
        "outputId": "0b219c33-d925-4a16-a6b6-3f6bdc2f92f5"
      },
      "execution_count": null,
      "outputs": [
        {
          "output_type": "stream",
          "name": "stdout",
          "text": [
            "writer class\n",
            "Speaker class\n"
          ]
        }
      ]
    },
    {
      "cell_type": "markdown",
      "source": [
        "# 5. Access Specifiers\n"
      ],
      "metadata": {
        "id": "tLz8qZjLyZyD"
      }
    },
    {
      "cell_type": "code",
      "source": [
        "class Test:\n",
        " def __init__(self):\n",
        "  self.public = \"Public\"\n",
        "  self._protected = \"Protected\"\n",
        "  self.__private = \"Private\"\n",
        "\n",
        "t = Test()\n",
        "print(t.public)\n",
        "print(t._protected)\n",
        "#print(t.__private)"
      ],
      "metadata": {
        "colab": {
          "base_uri": "https://localhost:8080/"
        },
        "id": "TW0LC7vGybYq",
        "outputId": "50fe03ac-804b-473f-c339-291623014760"
      },
      "execution_count": null,
      "outputs": [
        {
          "output_type": "stream",
          "name": "stdout",
          "text": [
            "Public\n",
            "Protected\n"
          ]
        }
      ]
    },
    {
      "cell_type": "markdown",
      "source": [
        "#6. Name Mangling\n"
      ],
      "metadata": {
        "id": "42hIJ9G1yrba"
      }
    },
    {
      "cell_type": "code",
      "source": [
        "class Secret:\n",
        " def __init__(self):\n",
        "  self.__password = \"12345\"\n",
        "s = Secret()\n",
        "print(s._Secret__password)\n"
      ],
      "metadata": {
        "colab": {
          "base_uri": "https://localhost:8080/"
        },
        "id": "-2FRqmrpysab",
        "outputId": "7bd7f7d8-65fb-4e4b-ca7f-c3222ad78ba3"
      },
      "execution_count": null,
      "outputs": [
        {
          "output_type": "stream",
          "name": "stdout",
          "text": [
            "12345\n"
          ]
        }
      ]
    },
    {
      "cell_type": "markdown",
      "source": [
        "#7. Inner/Nested Class\n"
      ],
      "metadata": {
        "id": "ewdhOLlFzV56"
      }
    },
    {
      "cell_type": "code",
      "source": [
        "class Employee:\n",
        " class Address:\n",
        "  def display(self):\n",
        "    print(\"Address class\")\n",
        "outer = Employee()\n",
        "inner = Employee.Address()\n",
        "inner.display()"
      ],
      "metadata": {
        "colab": {
          "base_uri": "https://localhost:8080/"
        },
        "id": "SbEwH_z4zXcq",
        "outputId": "c5156b7e-f5fe-4ce8-ee7a-fb741c4f42d7"
      },
      "execution_count": 2,
      "outputs": [
        {
          "output_type": "stream",
          "name": "stdout",
          "text": [
            "Address class\n"
          ]
        }
      ]
    },
    {
      "cell_type": "markdown",
      "source": [
        "# 8. Association, Aggregation, Composition\n"
      ],
      "metadata": {
        "id": "6g8OLAcKz26_"
      }
    },
    {
      "cell_type": "code",
      "source": [
        "class Driver:\n",
        " def drive(self):\n",
        "  print(\"Driving\")\n",
        "\n",
        "class Car:\n",
        " def __init__(self, driver):\n",
        "  self.driver = driver\n",
        "\n",
        "\n",
        "class Engine:\n",
        " def start(self):\n",
        "  print(\"Engine starting...\")\n",
        "class Car:\n",
        " def __init__(self, engine):\n",
        "  self.engine = engine\n",
        "\n",
        "class Engine:\n",
        " def start(self):\n",
        "  print(\"Engine starting...\")\n",
        "class Car:\n",
        " def __init__(self):\n",
        "  self.engine = Engine()\n",
        "\n",
        "\n",
        "\n",
        "obj = Engine()\n",
        "obj.start()\n"
      ],
      "metadata": {
        "id": "c9XMqH3Yz48C",
        "colab": {
          "base_uri": "https://localhost:8080/"
        },
        "outputId": "d5681076-6788-4820-9163-cac6718f88f2"
      },
      "execution_count": 6,
      "outputs": [
        {
          "output_type": "stream",
          "name": "stdout",
          "text": [
            "Engine starting...\n"
          ]
        }
      ]
    }
  ]
}