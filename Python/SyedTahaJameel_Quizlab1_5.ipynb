{
  "nbformat": 4,
  "nbformat_minor": 0,
  "metadata": {
    "colab": {
      "provenance": []
    },
    "kernelspec": {
      "name": "python3",
      "display_name": "Python 3"
    },
    "language_info": {
      "name": "python"
    }
  },
  "cells": [
    {
      "cell_type": "markdown",
      "source": [
        "# 1. Check Even or Odd"
      ],
      "metadata": {
        "id": "yuidcpXGh0Xy"
      }
    },
    {
      "cell_type": "code",
      "execution_count": null,
      "metadata": {
        "colab": {
          "base_uri": "https://localhost:8080/"
        },
        "id": "SdsYhkrbcAK-",
        "outputId": "6f79b69e-b32a-4eac-f0d4-612944f60ca1"
      },
      "outputs": [
        {
          "output_type": "stream",
          "name": "stdout",
          "text": [
            "Enter a number to check either even or odd 3\n",
            "The number is odd\n"
          ]
        }
      ],
      "source": [
        "var = int(input(\"Enter a number to check either even or odd \"))\n",
        "if var % 2 == 0:\n",
        "  print(\"The number is even\")\n",
        "else:\n",
        "  print(\"The number is odd\")"
      ]
    },
    {
      "cell_type": "markdown",
      "source": [
        "# 2. Factorial Function"
      ],
      "metadata": {
        "id": "BHskBwrgh5xw"
      }
    },
    {
      "cell_type": "code",
      "source": [
        "def factorial(n):\n",
        "  if n== 0 or n == 1:\n",
        "    return 1\n",
        "  else:\n",
        "    return n*factorial(n-1)\n",
        "\n",
        "num = int(input(\"Enter a number to find factorial: \"))\n",
        "print(f\"The factorial of {num} is {factorial(num)}\")"
      ],
      "metadata": {
        "colab": {
          "base_uri": "https://localhost:8080/"
        },
        "id": "OTYUSUzhcnIh",
        "outputId": "d825a759-dd18-4d75-9c59-c829e3c85320"
      },
      "execution_count": null,
      "outputs": [
        {
          "output_type": "stream",
          "name": "stdout",
          "text": [
            "Enter a number to find factorial: 6\n",
            "The factorial of 6 is 720\n"
          ]
        }
      ]
    },
    {
      "cell_type": "markdown",
      "source": [
        "#3. Reverse a String"
      ],
      "metadata": {
        "id": "VyctMfEJh-Ep"
      }
    },
    {
      "cell_type": "code",
      "source": [
        "var = input(\"Enter string to reverse: \")\n",
        "\n",
        "new_str = ''.join(reversed(var))\n",
        "\n",
        "\n",
        "print (new_str)"
      ],
      "metadata": {
        "colab": {
          "base_uri": "https://localhost:8080/"
        },
        "id": "tMMrTlXmdogI",
        "outputId": "2838fe9e-6b61-45ee-a3a0-3a92714efb35"
      },
      "execution_count": null,
      "outputs": [
        {
          "output_type": "stream",
          "name": "stdout",
          "text": [
            "Enter string to reverse: meow\n",
            "woem\n"
          ]
        }
      ]
    },
    {
      "cell_type": "markdown",
      "source": [
        "#4. Check if palindrome"
      ],
      "metadata": {
        "id": "dsnuSHaliFp4"
      }
    },
    {
      "cell_type": "code",
      "source": [
        "word = input(\"Enter string to check for palindrome: \")\n",
        "\n",
        "reword = ''.join(reversed(word))\n",
        "\n",
        "if word == reword:\n",
        "  print(\"It is a palindrome\")\n",
        "else:\n",
        "  print(\"its not a palindrome\")\n"
      ],
      "metadata": {
        "colab": {
          "base_uri": "https://localhost:8080/"
        },
        "id": "kM-iT0kxg-sJ",
        "outputId": "7e6bf0f2-16b5-4ab8-bcb3-83c96c6060a4"
      },
      "execution_count": null,
      "outputs": [
        {
          "output_type": "stream",
          "name": "stdout",
          "text": [
            "Enter string to check for palindrome: reviver\n",
            "It is a palindrome\n"
          ]
        }
      ]
    },
    {
      "cell_type": "markdown",
      "source": [
        "#5. Find the greatest number"
      ],
      "metadata": {
        "id": "HdZPljm-iJDR"
      }
    },
    {
      "cell_type": "code",
      "source": [
        "var1 = int(input(\"Enter first number : \"))\n",
        "var2 = int(input(\"Enter second number : \"))\n",
        "var3 = int(input(\"Enter third number : \"))\n",
        "\n",
        "\n",
        "greatest_num = max(var1,var2,var3)\n",
        "print(f\"The greatest number is {greatest_num}\")"
      ],
      "metadata": {
        "colab": {
          "base_uri": "https://localhost:8080/"
        },
        "id": "PolNr9Khdzkx",
        "outputId": "e697393c-74a9-46e8-80fb-427e9e483b4b"
      },
      "execution_count": null,
      "outputs": [
        {
          "output_type": "stream",
          "name": "stdout",
          "text": [
            "Enter first number :12\n",
            "Enter second number :3\n",
            "Enter third number :5\n",
            "The greatest number is12\n"
          ]
        }
      ]
    },
    {
      "cell_type": "markdown",
      "source": [
        "#Classes\n"
      ],
      "metadata": {
        "id": "gAgATOr3nsiq"
      }
    },
    {
      "cell_type": "code",
      "source": [
        "class car():\n",
        "  def __init__(self,make,model,year,color,speed):\n",
        "    self.make = make\n",
        "    self.model = model\n",
        "    self.year = year\n",
        "    self.color = color\n",
        "    self.speed = speed\n",
        "\n",
        "  def accelerate(self):\n",
        "    curr_speed =self.speed + 10\n",
        "    print(f\"The car is accelerating with speed: {curr_speed}\")\n",
        "  def brake(self):\n",
        "    curr_speed =self.speed - 20\n",
        "    print(f\"The car is Braking with speed: {curr_speed}\")\n",
        "\n",
        "  def display_info(self):\n",
        "    print(f\"{self.make} {self.model} {self.year} {self.color} {self.speed}\")\n",
        "\n",
        "\n",
        "car1 = car(\"toyota\", \"camry\", 2025 , \"black\" , 200)\n",
        "\n",
        "\n",
        "car1.display_info()\n",
        "car1.accelerate()\n",
        "car1.brake()\n"
      ],
      "metadata": {
        "colab": {
          "base_uri": "https://localhost:8080/"
        },
        "id": "YReMDafRnyCR",
        "outputId": "9838ec79-c17d-4e22-f579-2bece49cb66e"
      },
      "execution_count": null,
      "outputs": [
        {
          "output_type": "stream",
          "name": "stdout",
          "text": [
            "toyota camry 2025 black 200\n",
            "The car is accelerating with speed: 210\n",
            "The car is Braking with speed: 180\n"
          ]
        }
      ]
    }
  ]
}